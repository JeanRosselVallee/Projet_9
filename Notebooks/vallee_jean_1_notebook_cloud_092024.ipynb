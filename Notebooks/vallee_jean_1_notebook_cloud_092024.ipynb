{
 "cells": [
  {
   "cell_type": "markdown",
   "id": "244c935c-6859-4049-89e6-651e5e63d2ce",
   "metadata": {},
   "source": [
    "<div style='text-align:center; font-size:24px'>\n",
    "<B>Notebook de traitement distribué sur le Cloud</B>\n",
    "<br>Projet N° 9 - <I>Réalisez un traitement Big Data sur le Cloud"
   ]
  },
  {
   "cell_type": "markdown",
   "id": "ba108ef0-16c4-4819-b5e0-492d6a10086d",
   "metadata": {},
   "source": [
    "<div style='text-align:right; font-size:20px; font-weight:bold; font-style: italic' > \n",
    "par Jean Vallée"
   ]
  },
  {
   "cell_type": "markdown",
   "id": "d9bc4b43-b8d9-4dea-9410-fa18ec30f031",
   "metadata": {
    "tags": []
   },
   "source": [
    "<div style='background-color: darkblue; text-align: center'>."
   ]
  },
  {
   "cell_type": "markdown",
   "id": "e1dc1fe5-9ff1-4f04-8df2-40d02fe3e2f2",
   "metadata": {},
   "source": [
    "- Ce notebook est utilisé pour le traitement sur le Cloud, pour traiter le jeu complet d'images.\n",
    "- Sélectionnez un Kernel PySpark"
   ]
  },
  {
   "cell_type": "markdown",
   "id": "fb2ffcec",
   "metadata": {},
   "source": [
    "# Session Spark\n",
    "Le lancement de Spark échoue parfois, alors exécuter cette 1e case individuellement"
   ]
  },
  {
   "cell_type": "code",
   "execution_count": 1,
   "id": "89b43f66",
   "metadata": {},
   "outputs": [
    {
     "name": "stdout",
     "output_type": "stream",
     "text": [
      "Starting Spark application\n"
     ]
    },
    {
     "data": {
      "text/html": [
       "<table>\n",
       "<tr><th>ID</th><th>YARN Application ID</th><th>Kind</th><th>State</th><th>Spark UI</th><th>Driver log</th><th>User</th><th>Current session?</th></tr><tr><td>1</td><td>application_1725619841828_0002</td><td>pyspark</td><td>idle</td><td><a target=\"_blank\" href=\"http://ip-172-31-81-206.ec2.internal:20888/proxy/application_1725619841828_0002/\">Link</a></td><td><a target=\"_blank\" href=\"http://ip-172-31-93-96.ec2.internal:8042/node/containerlogs/container_1725619841828_0002_01_000001/livy\">Link</a></td><td>None</td><td>✔</td></tr></table>"
      ],
      "text/plain": [
       "<IPython.core.display.HTML object>"
      ]
     },
     "metadata": {},
     "output_type": "display_data"
    },
    {
     "data": {
      "application/vnd.jupyter.widget-view+json": {
       "model_id": "",
       "version_major": 2,
       "version_minor": 0
      },
      "text/plain": [
       "FloatProgress(value=0.0, bar_style='info', description='Progress:', layout=Layout(height='25px', width='50%'),…"
      ]
     },
     "metadata": {},
     "output_type": "display_data"
    },
    {
     "name": "stdout",
     "output_type": "stream",
     "text": [
      "SparkSession available as 'spark'.\n"
     ]
    },
    {
     "data": {
      "application/vnd.jupyter.widget-view+json": {
       "model_id": "",
       "version_major": 2,
       "version_minor": 0
      },
      "text/plain": [
       "FloatProgress(value=0.0, bar_style='info', description='Progress:', layout=Layout(height='25px', width='50%'),…"
      ]
     },
     "metadata": {},
     "output_type": "display_data"
    },
    {
     "name": "stdout",
     "output_type": "stream",
     "text": [
      "OK. Spark is active. Version: 3.5.1-amzn-0"
     ]
    }
   ],
   "source": [
    "pass         # Displays Spark-session info and links to UI & logs\n",
    "if ( 'spark' in globals() ) and ( spark.version ) :\n",
    "    print(f'OK. Spark is active. Version: {spark.version}')"
   ]
  },
  {
   "cell_type": "markdown",
   "id": "8075cec0",
   "metadata": {},
   "source": [
    "## Lancement"
   ]
  },
  {
   "cell_type": "markdown",
   "id": "4968edf9",
   "metadata": {},
   "source": [
    "- Sur un poste local, on lance la session Spark puis on crée le contexte\n",
    "- Sur le Cloud, EMR se charge de ces opérations"
   ]
  },
  {
   "cell_type": "markdown",
   "id": "3aba202f",
   "metadata": {},
   "source": [
    "Informations de configuration Spark"
   ]
  },
  {
   "cell_type": "code",
   "execution_count": 368,
   "id": "278c5336",
   "metadata": {},
   "outputs": [
    {
     "data": {
      "application/vnd.jupyter.widget-view+json": {
       "model_id": "",
       "version_major": 2,
       "version_minor": 0
      },
      "text/plain": [
       "FloatProgress(value=0.0, bar_style='info', description='Progress:', layout=Layout(height='25px', width='50%'),…"
      ]
     },
     "metadata": {},
     "output_type": "display_data"
    }
   ],
   "source": [
    "cluster_name = 'emr-1core-2task'"
   ]
  },
  {
   "cell_type": "code",
   "execution_count": 369,
   "id": "e5f0fbe1",
   "metadata": {},
   "outputs": [
    {
     "data": {
      "application/vnd.jupyter.widget-view+json": {
       "model_id": "",
       "version_major": 2,
       "version_minor": 0
      },
      "text/plain": [
       "FloatProgress(value=0.0, bar_style='info', description='Progress:', layout=Layout(height='25px', width='50%'),…"
      ]
     },
     "metadata": {},
     "output_type": "display_data"
    },
    {
     "name": "stdout",
     "output_type": "stream",
     "text": [
      "Executor Cores : 2\n",
      "Executor Memory : 4743M\n",
      "Driver Memory : 1000M"
     ]
    }
   ],
   "source": [
    "spark_conf = sc.getConf()\n",
    "print('Executor Cores :',  spark_conf.get('spark.executor.cores')  )\n",
    "print('Executor Memory :', spark_conf.get('spark.executor.memory') )\n",
    "print('Driver Memory :',   spark_conf.get('spark.driver.memory')   )"
   ]
  },
  {
   "cell_type": "markdown",
   "id": "c99ef210-b28f-4343-a756-bc46ddd50d4b",
   "metadata": {},
   "source": [
    "### Dossiers de travail"
   ]
  },
  {
   "cell_type": "code",
   "execution_count": 370,
   "id": "7612efa4-3b73-46df-9ea1-f29d55cdc583",
   "metadata": {},
   "outputs": [
    {
     "data": {
      "application/vnd.jupyter.widget-view+json": {
       "model_id": "",
       "version_major": 2,
       "version_minor": 0
      },
      "text/plain": [
       "FloatProgress(value=0.0, bar_style='info', description='Progress:', layout=Layout(height='25px', width='50%'),…"
      ]
     },
     "metadata": {},
     "output_type": "display_data"
    },
    {
     "name": "stdout",
     "output_type": "stream",
     "text": [
      "path_s3_images:  s3://jv-s3/data/fruits-360/\n",
      "path_s3_output:  s3://jv-s3/output/\n",
      "path_output:     ./output/"
     ]
    }
   ],
   "source": [
    "path_s3         = 's3://jv-s3/'\n",
    "path_s3_output  = path_s3 + 'output/'\n",
    "path_s3_images  = path_s3 + 'data/fruits-360/'\n",
    "path_output     = './output/' \n",
    "print( 'path_s3_images:  '  + path_s3_images + \\\n",
    "      '\\npath_s3_output:  ' + path_s3_output + \\\n",
    "      '\\npath_output:     ' + path_output )"
   ]
  },
  {
   "cell_type": "markdown",
   "id": "27ac9832",
   "metadata": {},
   "source": [
    "# Modules & fonctions\n",
    "- pour un traitement local, leur installation est faîte sur un terminal \n",
    "- pour le Cloud, elle est faîte à l'amorçage “bootstrap” du cluster"
   ]
  },
  {
   "cell_type": "code",
   "execution_count": 371,
   "id": "caaea7af",
   "metadata": {},
   "outputs": [
    {
     "name": "stdout",
     "output_type": "stream",
     "text": [
      "ipython                      7.25.0\n",
      "ipython-genutils             0.2.0\n",
      "numpy                        1.26.4\n",
      "pandas                       1.4.4\n",
      "pip                          24.0\n",
      "sparkmagic                   0.20.0\n"
     ]
    }
   ],
   "source": [
    "%%sh\n",
    "pip list | grep -iE 'pandas|numpy|pip|ipython|spark|tensorflow'"
   ]
  },
  {
   "cell_type": "markdown",
   "id": "4cc07610",
   "metadata": {},
   "source": [
    "## Import"
   ]
  },
  {
   "cell_type": "code",
   "execution_count": 372,
   "id": "cbc6c73d-9457-4d4d-953a-e5c5465d81c1",
   "metadata": {},
   "outputs": [
    {
     "data": {
      "application/vnd.jupyter.widget-view+json": {
       "model_id": "",
       "version_major": 2,
       "version_minor": 0
      },
      "text/plain": [
       "FloatProgress(value=0.0, bar_style='info', description='Progress:', layout=Layout(height='25px', width='50%'),…"
      ]
     },
     "metadata": {},
     "output_type": "display_data"
    }
   ],
   "source": [
    "import pandas as pd\n",
    "import numpy as np\n",
    "import io\n",
    "import os\n",
    "import cv2\n",
    "import time\n",
    "import boto3\n",
    "import subprocess"
   ]
  },
  {
   "cell_type": "code",
   "execution_count": 373,
   "id": "613eb461-90ca-4981-b2d8-12427001a5a9",
   "metadata": {},
   "outputs": [
    {
     "data": {
      "application/vnd.jupyter.widget-view+json": {
       "model_id": "",
       "version_major": 2,
       "version_minor": 0
      },
      "text/plain": [
       "FloatProgress(value=0.0, bar_style='info', description='Progress:', layout=Layout(height='25px', width='50%'),…"
      ]
     },
     "metadata": {},
     "output_type": "display_data"
    }
   ],
   "source": [
    "import tensorflow as tf"
   ]
  },
  {
   "cell_type": "code",
   "execution_count": 374,
   "id": "f9c4d57e",
   "metadata": {},
   "outputs": [
    {
     "data": {
      "application/vnd.jupyter.widget-view+json": {
       "model_id": "",
       "version_major": 2,
       "version_minor": 0
      },
      "text/plain": [
       "FloatProgress(value=0.0, bar_style='info', description='Progress:', layout=Layout(height='25px', width='50%'),…"
      ]
     },
     "metadata": {},
     "output_type": "display_data"
    }
   ],
   "source": [
    "from pyspark.sql.functions import pandas_udf, PandasUDFType, element_at, split, col "
   ]
  },
  {
   "cell_type": "markdown",
   "id": "a51daa69",
   "metadata": {},
   "source": [
    "## Fonctions de calcul du temps d'exécution\n",
    "- Calcule le temps d'exécution des commandes les plus longues\n",
    "- Crée un tableau récapitulatif qui sera affiché à la fin du notebook"
   ]
  },
  {
   "cell_type": "code",
   "execution_count": 375,
   "id": "87d64626",
   "metadata": {},
   "outputs": [
    {
     "data": {
      "application/vnd.jupyter.widget-view+json": {
       "model_id": "",
       "version_major": 2,
       "version_minor": 0
      },
      "text/plain": [
       "FloatProgress(value=0.0, bar_style='info', description='Progress:', layout=Layout(height='25px', width='50%'),…"
      ]
     },
     "metadata": {},
     "output_type": "display_data"
    }
   ],
   "source": [
    "df_duration = pd.DataFrame(columns=['cluster', 'job_group_id', 'nb_images', 'nb_secs', 'duration'])\n",
    "timestamp = time.strftime('%Y%m%d_%H%M')\n",
    "def get_time() : \n",
    "    return int(time.time())\n",
    "def get_start_time(job_group_id) : \n",
    "    sc.setJobGroup(job_group_id, job_group_id)\n",
    "    return get_time()\n",
    "def get_HHMMSS(secs) : \n",
    "    HH, MM, SS = secs // 3600, (secs % 3600) // 60, secs % 60 # // returns integer\n",
    "    if HH == 0 : return f'         {MM:02}m {SS:02}s' \n",
    "    else :       return f'{HH:02}h {MM:02}m {SS:02}s'\n",
    "def get_duration(job_group_id, start_time) :\n",
    "    nb_secs = get_time() - start_time\n",
    "    duration = get_HHMMSS(nb_secs)\n",
    "    print('Execution time = ', duration)\n",
    "    global df_duration\n",
    "    dict_row = pd.DataFrame({'job_group_id': [job_group_id], 'nb_secs': [nb_secs], 'duration': [duration]})\n",
    "    df_duration = pd.concat([df_duration, dict_row], ignore_index=True)\n",
    "    sc.cancelJobGroup(job_group_id)\n",
    "def get_total_duration() :\n",
    "    df_total_duration = df_duration.groupby('nb_images').agg({'nb_secs': 'sum'}).reset_index()\n",
    "    df_total_duration['duration'] = df_total_duration['nb_secs'].apply(lambda x : get_HHMMSS(x))\n",
    "    return df_total_duration"
   ]
  },
  {
   "cell_type": "markdown",
   "id": "e4f726a3-e2b5-4980-9c5e-5c634d6a07fc",
   "metadata": {},
   "source": [
    "## Fonction d'exécution de commande Shell"
   ]
  },
  {
   "cell_type": "code",
   "execution_count": 376,
   "id": "6451fe05",
   "metadata": {},
   "outputs": [
    {
     "data": {
      "application/vnd.jupyter.widget-view+json": {
       "model_id": "",
       "version_major": 2,
       "version_minor": 0
      },
      "text/plain": [
       "FloatProgress(value=0.0, bar_style='info', description='Progress:', layout=Layout(height='25px', width='50%'),…"
      ]
     },
     "metadata": {},
     "output_type": "display_data"
    }
   ],
   "source": [
    "def run_cmd(str_cmd) :\n",
    "    print('Command =', str_cmd)\n",
    "    result = subprocess.run(str_cmd, shell=True, stdout=subprocess.PIPE, stderr=subprocess.PIPE) \n",
    "    ret = result.returncode\n",
    "    if ret != 0 : \n",
    "        print( 'ERROR : code =', result.returncode, '\\n', result.stderr.decode('utf-8'))\n",
    "        return 'ERROR'\n",
    "    else : # ret == 0 \n",
    "        print( 'OK, success\\n', result.stdout.decode('utf-8'))    \n",
    "        return 'OK'"
   ]
  },
  {
   "cell_type": "markdown",
   "id": "4c603541",
   "metadata": {},
   "source": [
    "# Pré-traitement des DataFrame Spark"
   ]
  },
  {
   "cell_type": "code",
   "execution_count": 377,
   "id": "aede74a7",
   "metadata": {},
   "outputs": [
    {
     "data": {
      "application/vnd.jupyter.widget-view+json": {
       "model_id": "",
       "version_major": 2,
       "version_minor": 0
      },
      "text/plain": [
       "FloatProgress(value=0.0, bar_style='info', description='Progress:', layout=Layout(height='25px', width='50%'),…"
      ]
     },
     "metadata": {},
     "output_type": "display_data"
    }
   ],
   "source": [
    "global_start_time = get_time()"
   ]
  },
  {
   "cell_type": "markdown",
   "id": "9b41b125",
   "metadata": {},
   "source": [
    "## Fichiers sur AWS S3\n",
    "_Boto 3_ permet la gestion de fichiers sur S3 : les lister, copier, déplacer, supprimer, etc."
   ]
  },
  {
   "cell_type": "code",
   "execution_count": 378,
   "id": "38d2d092-cf1b-422e-8ca9-615386104f4f",
   "metadata": {},
   "outputs": [
    {
     "data": {
      "application/vnd.jupyter.widget-view+json": {
       "model_id": "",
       "version_major": 2,
       "version_minor": 0
      },
      "text/plain": [
       "FloatProgress(value=0.0, bar_style='info', description='Progress:', layout=Layout(height='25px', width='50%'),…"
      ]
     },
     "metadata": {},
     "output_type": "display_data"
    },
    {
     "name": "stdout",
     "output_type": "stream",
     "text": [
      "nb_files in bucket = 10862"
     ]
    }
   ],
   "source": [
    "def list_files_in_bucket(bucket_name):\n",
    "    paginator = s3.get_paginator('list_objects_v2')\n",
    "    page_iterator = paginator.paginate(Bucket=bucket_name)   \n",
    "    full_list = []    \n",
    "    for partial_list_i in page_iterator:\n",
    "        if 'Contents' in partial_list_i :\n",
    "            full_list.extend(partial_list_i['Contents'])\n",
    "    return full_list\n",
    "\n",
    "s3 = boto3.client('s3')\n",
    "my_bucket = 'jv-s3'\n",
    "li_dict_images = list_files_in_bucket(my_bucket)\n",
    "print('nb_files in bucket =', len(li_dict_images))"
   ]
  },
  {
   "cell_type": "markdown",
   "id": "cf883c20",
   "metadata": {},
   "source": [
    "### Jeu de données original"
   ]
  },
  {
   "cell_type": "code",
   "execution_count": 379,
   "id": "1964baec-650b-454c-96a0-cde6f36735b4",
   "metadata": {},
   "outputs": [
    {
     "data": {
      "application/vnd.jupyter.widget-view+json": {
       "model_id": "",
       "version_major": 2,
       "version_minor": 0
      },
      "text/plain": [
       "FloatProgress(value=0.0, bar_style='info', description='Progress:', layout=Layout(height='25px', width='50%'),…"
      ]
     },
     "metadata": {},
     "output_type": "display_data"
    },
    {
     "name": "stdout",
     "output_type": "stream",
     "text": [
      "nb_images = 10812"
     ]
    }
   ],
   "source": [
    "def count_files_in_folder(li_dict_paths, target_path, suffix) :\n",
    "    nb_files = 0\n",
    "    for dict_path in li_dict_paths :  \n",
    "        if dict_path['Key'].startswith(target_path) & dict_path['Key'].endswith(suffix) :\n",
    "            nb_files += 1\n",
    "    return nb_files\n",
    "nb_images = count_files_in_folder(li_dict_images, 'data/fruits-360/', '.jpg')\n",
    "print('nb_images =', nb_images)"
   ]
  },
  {
   "cell_type": "markdown",
   "id": "78286d3f",
   "metadata": {
    "tags": []
   },
   "source": [
    "<div style='background-color: blue; text-align: center'>."
   ]
  },
  {
   "cell_type": "markdown",
   "id": "bac9d28c-d7f8-4e64-a265-ec60af5bcd2a",
   "metadata": {},
   "source": [
    "## Chargement des fichiers image"
   ]
  },
  {
   "cell_type": "code",
   "execution_count": 380,
   "id": "7e4b319a",
   "metadata": {},
   "outputs": [
    {
     "data": {
      "application/vnd.jupyter.widget-view+json": {
       "model_id": "",
       "version_major": 2,
       "version_minor": 0
      },
      "text/plain": [
       "FloatProgress(value=0.0, bar_style='info', description='Progress:', layout=Layout(height='25px', width='50%'),…"
      ]
     },
     "metadata": {},
     "output_type": "display_data"
    }
   ],
   "source": [
    "sdf_images = spark.read.format('binaryFile') \\\n",
    "  .option('pathGlobFilter', '*.jpg') \\\n",
    "  .option('recursiveFileLookup', 'true') \\\n",
    "  .load(path_s3_images)"
   ]
  },
  {
   "cell_type": "markdown",
   "id": "c90dcc39",
   "metadata": {},
   "source": [
    "#### Nombre d'images variable\n",
    "Normalement on traite un nombre unique d'images. Mais on peut fait varier ce nombre pour l'extrapolation de la durée en fonction du nombre d'images "
   ]
  },
  {
   "cell_type": "raw",
   "id": "894bde6d",
   "metadata": {},
   "source": [
    "data_fraction = .925 * .6 # .6 # .7 # .8 # .9  # Process only a subset of the images \n",
    "sdf_images = sdf_images.sample(data_fraction, 0) # fraction of dataset"
   ]
  },
  {
   "cell_type": "markdown",
   "id": "8b32ac34",
   "metadata": {},
   "source": [
    "## _Feature Engineering_"
   ]
  },
  {
   "cell_type": "markdown",
   "id": "00c81c17-1d9d-4100-991e-9c60ed1e2590",
   "metadata": {},
   "source": [
    "### Ajout de _image_id_\n",
    "On remplace le champ _path_ par un identifiant de l'image; L'identifiant est bien plus court que le chemin des fichiers"
   ]
  },
  {
   "cell_type": "code",
   "execution_count": 381,
   "id": "b55adb62-aaa1-4572-b1f8-3801362de4f0",
   "metadata": {},
   "outputs": [
    {
     "data": {
      "application/vnd.jupyter.widget-view+json": {
       "model_id": "",
       "version_major": 2,
       "version_minor": 0
      },
      "text/plain": [
       "FloatProgress(value=0.0, bar_style='info', description='Progress:', layout=Layout(height='25px', width='50%'),…"
      ]
     },
     "metadata": {},
     "output_type": "display_data"
    }
   ],
   "source": [
    "from pyspark.sql.functions import monotonically_increasing_id"
   ]
  },
  {
   "cell_type": "code",
   "execution_count": 382,
   "id": "a52ab808",
   "metadata": {},
   "outputs": [
    {
     "data": {
      "application/vnd.jupyter.widget-view+json": {
       "model_id": "",
       "version_major": 2,
       "version_minor": 0
      },
      "text/plain": [
       "FloatProgress(value=0.0, bar_style='info', description='Progress:', layout=Layout(height='25px', width='50%'),…"
      ]
     },
     "metadata": {},
     "output_type": "display_data"
    }
   ],
   "source": [
    "sdf_images = sdf_images.withColumn( 'image_id', monotonically_increasing_id() )"
   ]
  },
  {
   "cell_type": "markdown",
   "id": "2269f546-4a02-4f15-86c2-8a29d734d39b",
   "metadata": {},
   "source": [
    "### Ajout de _class_"
   ]
  },
  {
   "cell_type": "code",
   "execution_count": 383,
   "id": "697c117a-8879-43fb-ae78-c96048ac8fcf",
   "metadata": {},
   "outputs": [
    {
     "data": {
      "application/vnd.jupyter.widget-view+json": {
       "model_id": "",
       "version_major": 2,
       "version_minor": 0
      },
      "text/plain": [
       "FloatProgress(value=0.0, bar_style='info', description='Progress:', layout=Layout(height='25px', width='50%'),…"
      ]
     },
     "metadata": {},
     "output_type": "display_data"
    }
   ],
   "source": [
    "sdf_images = sdf_images.withColumn('class', element_at(split(sdf_images['path'], '/'),-2))"
   ]
  },
  {
   "cell_type": "markdown",
   "id": "f4f577dd",
   "metadata": {},
   "source": [
    "### Ajout de _class_id_"
   ]
  },
  {
   "cell_type": "code",
   "execution_count": 384,
   "id": "ab3c60a1",
   "metadata": {},
   "outputs": [
    {
     "data": {
      "application/vnd.jupyter.widget-view+json": {
       "model_id": "",
       "version_major": 2,
       "version_minor": 0
      },
      "text/plain": [
       "FloatProgress(value=0.0, bar_style='info', description='Progress:', layout=Layout(height='25px', width='50%'),…"
      ]
     },
     "metadata": {},
     "output_type": "display_data"
    }
   ],
   "source": [
    "from pyspark.ml.feature import StringIndexer"
   ]
  },
  {
   "cell_type": "markdown",
   "id": "519bc82b",
   "metadata": {},
   "source": [
    "Codage des classes en indexes entiers"
   ]
  },
  {
   "cell_type": "code",
   "execution_count": 385,
   "id": "8a97ff34",
   "metadata": {},
   "outputs": [
    {
     "data": {
      "application/vnd.jupyter.widget-view+json": {
       "model_id": "",
       "version_major": 2,
       "version_minor": 0
      },
      "text/plain": [
       "FloatProgress(value=0.0, bar_style='info', description='Progress:', layout=Layout(height='25px', width='50%'),…"
      ]
     },
     "metadata": {},
     "output_type": "display_data"
    },
    {
     "name": "stdout",
     "output_type": "stream",
     "text": [
      "Execution time =           00m 22s"
     ]
    }
   ],
   "source": [
    "start_time = get_start_time('add_class_id')\n",
    "indexer = StringIndexer(inputCol='class', outputCol='class_id')\n",
    "sdf_images = indexer.fit(sdf_images).transform(sdf_images)\n",
    "get_duration('add_class_id', start_time)"
   ]
  },
  {
   "cell_type": "code",
   "execution_count": 386,
   "id": "eceda5df-8475-47a9-8295-fce7e695c3db",
   "metadata": {},
   "outputs": [
    {
     "data": {
      "application/vnd.jupyter.widget-view+json": {
       "model_id": "",
       "version_major": 2,
       "version_minor": 0
      },
      "text/plain": [
       "FloatProgress(value=0.0, bar_style='info', description='Progress:', layout=Layout(height='25px', width='50%'),…"
      ]
     },
     "metadata": {},
     "output_type": "display_data"
    },
    {
     "name": "stdout",
     "output_type": "stream",
     "text": [
      "root\n",
      " |-- path: string (nullable = true)\n",
      " |-- modificationTime: timestamp (nullable = true)\n",
      " |-- length: long (nullable = true)\n",
      " |-- content: binary (nullable = true)\n",
      " |-- image_id: long (nullable = false)\n",
      " |-- class: string (nullable = true)\n",
      " |-- class_id: double (nullable = false)\n",
      "\n",
      "None"
     ]
    }
   ],
   "source": [
    "print(sdf_images.printSchema())"
   ]
  },
  {
   "cell_type": "markdown",
   "id": "2c04811e-eb55-4aa9-be04-9043f959ce77",
   "metadata": {},
   "source": [
    "## Suppression de colonnes inutiles"
   ]
  },
  {
   "cell_type": "code",
   "execution_count": 387,
   "id": "aebb4548-411c-4f92-8745-d693aed6eab1",
   "metadata": {},
   "outputs": [
    {
     "data": {
      "application/vnd.jupyter.widget-view+json": {
       "model_id": "",
       "version_major": 2,
       "version_minor": 0
      },
      "text/plain": [
       "FloatProgress(value=0.0, bar_style='info', description='Progress:', layout=Layout(height='25px', width='50%'),…"
      ]
     },
     "metadata": {},
     "output_type": "display_data"
    }
   ],
   "source": [
    "sdf_images = sdf_images.drop(*['path', 'modificationTime', 'length'])"
   ]
  },
  {
   "cell_type": "code",
   "execution_count": 388,
   "id": "5bd3ef10",
   "metadata": {},
   "outputs": [
    {
     "data": {
      "application/vnd.jupyter.widget-view+json": {
       "model_id": "",
       "version_major": 2,
       "version_minor": 0
      },
      "text/plain": [
       "FloatProgress(value=0.0, bar_style='info', description='Progress:', layout=Layout(height='25px', width='50%'),…"
      ]
     },
     "metadata": {},
     "output_type": "display_data"
    },
    {
     "name": "stdout",
     "output_type": "stream",
     "text": [
      "root\n",
      " |-- content: binary (nullable = true)\n",
      " |-- image_id: long (nullable = false)\n",
      " |-- class: string (nullable = true)\n",
      " |-- class_id: double (nullable = false)\n",
      "\n",
      "None"
     ]
    }
   ],
   "source": [
    "print(sdf_images.printSchema())"
   ]
  },
  {
   "cell_type": "code",
   "execution_count": 389,
   "id": "387b6003",
   "metadata": {},
   "outputs": [
    {
     "data": {
      "application/vnd.jupyter.widget-view+json": {
       "model_id": "",
       "version_major": 2,
       "version_minor": 0
      },
      "text/plain": [
       "FloatProgress(value=0.0, bar_style='info', description='Progress:', layout=Layout(height='25px', width='50%'),…"
      ]
     },
     "metadata": {},
     "output_type": "display_data"
    },
    {
     "name": "stdout",
     "output_type": "stream",
     "text": [
      "+--------+-----+--------+\n",
      "|image_id|class|class_id|\n",
      "+--------+-----+--------+\n",
      "|0       |Cocos|7.0     |\n",
      "|1       |Cocos|7.0     |\n",
      "|2       |Cocos|7.0     |\n",
      "|3       |Cocos|7.0     |\n",
      "|4       |Cocos|7.0     |\n",
      "+--------+-----+--------+\n",
      "only showing top 5 rows\n",
      "\n",
      "None\n",
      "Execution time =           00m 01s"
     ]
    }
   ],
   "source": [
    "start_time = get_start_time('get_spark_df_sample')\n",
    "print(sdf_images.drop('content').show(5, False))\n",
    "get_duration('get_spark_df_sample', start_time)"
   ]
  },
  {
   "cell_type": "markdown",
   "id": "2fdf64de-5243-48e9-b5ef-fa09f22051a8",
   "metadata": {},
   "source": [
    "## Aggrégats\n",
    "### Distribution de classes"
   ]
  },
  {
   "cell_type": "code",
   "execution_count": 390,
   "id": "281d1a8a-f939-49e5-bd49-a31c6aa4df63",
   "metadata": {
    "scrolled": true
   },
   "outputs": [
    {
     "data": {
      "application/vnd.jupyter.widget-view+json": {
       "model_id": "",
       "version_major": 2,
       "version_minor": 0
      },
      "text/plain": [
       "FloatProgress(value=0.0, bar_style='info', description='Progress:', layout=Layout(height='25px', width='50%'),…"
      ]
     },
     "metadata": {},
     "output_type": "display_data"
    },
    {
     "name": "stdout",
     "output_type": "stream",
     "text": [
      "Execution time =           00m 12s"
     ]
    }
   ],
   "source": [
    "start_time = get_start_time('get_class_distribution')\n",
    "df_count_per_class = sdf_images.groupBy('class_id', 'class').count().toPandas()\n",
    "df_count_per_class['class_id'] = df_count_per_class['class_id'].astype(int)\n",
    "get_duration('get_class_distribution', start_time)"
   ]
  },
  {
   "cell_type": "code",
   "execution_count": 391,
   "id": "6cb75ef6",
   "metadata": {},
   "outputs": [
    {
     "data": {
      "application/vnd.jupyter.widget-view+json": {
       "model_id": "",
       "version_major": 2,
       "version_minor": 0
      },
      "text/plain": [
       "FloatProgress(value=0.0, bar_style='info', description='Progress:', layout=Layout(height='25px', width='50%'),…"
      ]
     },
     "metadata": {},
     "output_type": "display_data"
    },
    {
     "name": "stdout",
     "output_type": "stream",
     "text": [
      " class_id              class  count\n",
      "        0             Plum 3    900\n",
      "        1     Cherry Rainier    738\n",
      "        2       Cantaloupe 1    492\n",
      "        3     Cherry Wax Red    492\n",
      "        4              Lemon    492\n",
      "        5              Peach    492\n",
      "        6             Banana    490\n",
      "        7              Cocos    490\n",
      "        8        Grape White    490\n",
      "        9    Grapefruit Pink    490\n",
      "       10        Huckleberry    490\n",
      "       11           Maracuja    490\n",
      "       12         Pear Abate    490\n",
      "       13       Pear Monster    490\n",
      "       14      Pear Williams    490\n",
      "       15          Corn Husk    462\n",
      "       16               Corn    450\n",
      "       17         Potato Red    450\n",
      "       18 Apple Crimson Snow    444\n",
      "       19             Plum 2    420\n",
      "       20      Cucumber Ripe    392\n",
      "       21         Peach Flat    178"
     ]
    }
   ],
   "source": [
    "print( df_count_per_class.sort_values('class_id').to_string(index=False) )"
   ]
  },
  {
   "cell_type": "markdown",
   "id": "ba08eb27-76a2-445b-8473-4bc594b5230d",
   "metadata": {},
   "source": [
    "### Nombre de classes"
   ]
  },
  {
   "cell_type": "code",
   "execution_count": 392,
   "id": "c5bbe97a",
   "metadata": {},
   "outputs": [
    {
     "data": {
      "application/vnd.jupyter.widget-view+json": {
       "model_id": "",
       "version_major": 2,
       "version_minor": 0
      },
      "text/plain": [
       "FloatProgress(value=0.0, bar_style='info', description='Progress:', layout=Layout(height='25px', width='50%'),…"
      ]
     },
     "metadata": {},
     "output_type": "display_data"
    },
    {
     "name": "stdout",
     "output_type": "stream",
     "text": [
      "nb_classes = 22"
     ]
    }
   ],
   "source": [
    "nb_classes = len(df_count_per_class)\n",
    "print('nb_classes =', nb_classes)"
   ]
  },
  {
   "cell_type": "markdown",
   "id": "959391b5-4943-447d-a35b-634565957072",
   "metadata": {},
   "source": [
    "### Nombre d'images"
   ]
  },
  {
   "cell_type": "code",
   "execution_count": 393,
   "id": "e69ed840-f3e6-4c3e-bc1a-236c1530a0f7",
   "metadata": {},
   "outputs": [
    {
     "data": {
      "application/vnd.jupyter.widget-view+json": {
       "model_id": "",
       "version_major": 2,
       "version_minor": 0
      },
      "text/plain": [
       "FloatProgress(value=0.0, bar_style='info', description='Progress:', layout=Layout(height='25px', width='50%'),…"
      ]
     },
     "metadata": {},
     "output_type": "display_data"
    },
    {
     "name": "stdout",
     "output_type": "stream",
     "text": [
      "nb_images = 10812"
     ]
    }
   ],
   "source": [
    "nb_images = df_count_per_class['count'].sum()\n",
    "print('nb_images =', nb_images)"
   ]
  },
  {
   "cell_type": "markdown",
   "id": "8f15b199",
   "metadata": {},
   "source": [
    "# Remplacement d'attributs originaux\n",
    "Le modèle de classification choisi requiert une résolution de 224x224x3 couleurs de pixel d’image, ce qui représente 150 258 attributs "
   ]
  },
  {
   "cell_type": "markdown",
   "id": "7ddd8fd4",
   "metadata": {},
   "source": [
    "## Génération d'attributs plus représentatifs\n",
    "Le modèle choisi pour générer des attributs plus représentatifs des images est le modèle neuronal pré-entraîné \"Mobil Net V2\""
   ]
  },
  {
   "cell_type": "code",
   "execution_count": 394,
   "id": "cad69b4f-2756-4e54-9007-428265b20091",
   "metadata": {},
   "outputs": [
    {
     "data": {
      "application/vnd.jupyter.widget-view+json": {
       "model_id": "",
       "version_major": 2,
       "version_minor": 0
      },
      "text/plain": [
       "FloatProgress(value=0.0, bar_style='info', description='Progress:', layout=Layout(height='25px', width='50%'),…"
      ]
     },
     "metadata": {},
     "output_type": "display_data"
    }
   ],
   "source": [
    "import keras as k"
   ]
  },
  {
   "cell_type": "markdown",
   "id": "b494678c-fd2e-40a2-ad50-ee962c31d375",
   "metadata": {},
   "source": [
    "### Récupération du modèle tronqué\n",
    "- récupère le modèle pré-entraîné \n",
    "- le tronque en enlevant la toute dernière couche\n",
    "- diffuse les poids du modèle\n",
    "    - depuis le Driver dans le noeud Master\n",
    "    - vers les Executors dans les noeuds Core"
   ]
  },
  {
   "cell_type": "markdown",
   "id": "ac1e20b3",
   "metadata": {},
   "source": [
    "#### Récupération du modèle complet"
   ]
  },
  {
   "cell_type": "code",
   "execution_count": 395,
   "id": "ec7c7165",
   "metadata": {},
   "outputs": [
    {
     "data": {
      "application/vnd.jupyter.widget-view+json": {
       "model_id": "",
       "version_major": 2,
       "version_minor": 0
      },
      "text/plain": [
       "FloatProgress(value=0.0, bar_style='info', description='Progress:', layout=Layout(height='25px', width='50%'),…"
      ]
     },
     "metadata": {},
     "output_type": "display_data"
    }
   ],
   "source": [
    "model_cnn = k.applications.mobilenet_v2.MobileNetV2(weights='imagenet',\n",
    "                    include_top=True,\n",
    "                    input_shape=(224, 224, 3))"
   ]
  },
  {
   "cell_type": "markdown",
   "id": "da380953",
   "metadata": {},
   "source": [
    "#### Troncature du modèle\n",
    "La dernière couche est enlevée pour l'adapter à notre jeu d'images"
   ]
  },
  {
   "cell_type": "code",
   "execution_count": 396,
   "id": "1b9bc650",
   "metadata": {},
   "outputs": [
    {
     "data": {
      "application/vnd.jupyter.widget-view+json": {
       "model_id": "",
       "version_major": 2,
       "version_minor": 0
      },
      "text/plain": [
       "FloatProgress(value=0.0, bar_style='info', description='Progress:', layout=Layout(height='25px', width='50%'),…"
      ]
     },
     "metadata": {},
     "output_type": "display_data"
    }
   ],
   "source": [
    "model_cnn_truncated = k.Model(inputs=model_cnn.input,\n",
    "                  outputs=model_cnn.layers[-2].output)"
   ]
  },
  {
   "cell_type": "markdown",
   "id": "ca04013e",
   "metadata": {},
   "source": [
    "En sortie du modèle tronqué on récupère 1280 attributs par image"
   ]
  },
  {
   "cell_type": "code",
   "execution_count": 397,
   "id": "1bc0bf14",
   "metadata": {
    "scrolled": true
   },
   "outputs": [
    {
     "data": {
      "application/vnd.jupyter.widget-view+json": {
       "model_id": "",
       "version_major": 2,
       "version_minor": 0
      },
      "text/plain": [
       "FloatProgress(value=0.0, bar_style='info', description='Progress:', layout=Layout(height='25px', width='50%'),…"
      ]
     },
     "metadata": {},
     "output_type": "display_data"
    },
    {
     "name": "stdout",
     "output_type": "stream",
     "text": [
      "Model: \"functional_5\"\n",
      "┏━━━━━━━━━━━━━━━━━━━━━┳━━━━━━━━━━━━━━━━━━━┳━━━━━━━━━━━━┳━━━━━━━━━━━━━━━━━━━┓\n",
      "┃ Layer (type)        ┃ Output Shape      ┃    Param # ┃ Connected to      ┃\n",
      "┡━━━━━━━━━━━━━━━━━━━━━╇━━━━━━━━━━━━━━━━━━━╇━━━━━━━━━━━━╇━━━━━━━━━━━━━━━━━━━┩\n",
      "│ input_layer_5       │ (None, 224, 224,  │          0 │ -                 │\n",
      "│ (InputLayer)        │ 3)                │            │                   │\n",
      "├─────────────────────┼───────────────────┼────────────┼───────────────────┤\n",
      "│ Conv1 (Conv2D)      │ (None, 112, 112,  │        864 │ input_layer_5[0]… │\n",
      "│                     │ 32)               │            │                   │\n",
      "├─────────────────────┼───────────────────┼────────────┼───────────────────┤\n",
      "│ bn_Conv1            │ (None, 112, 112,  │        128 │ Conv1[0][0]       │\n",
      "│ (BatchNormalizatio… │ 32)               │            │                   │\n",
      "├─────────────────────┼───────────────────┼────────────┼───────────────────┤\n",
      "│ Conv1_relu (ReLU)   │ (None, 112, 112,  │          0 │ bn_Conv1[0][0]    │\n",
      "│                     │ 32)               │            │                   │\n",
      "├─────────────────────┼───────────────────┼────────────┼───────────────────┤\n",
      "│ expanded_conv_dept… │ (None, 112, 112,  │        288 │ Conv1_relu[0][0]  │\n",
      "│ (DepthwiseConv2D)   │ 32)               │            │                   │\n",
      "├─────────────────────┼───────────────────┼────────────┼───────────────────┤\n",
      "│ expanded_conv_dept… │ (None, 112, 112,  │        128 │ expanded_conv_de… │\n",
      "│ (BatchNormalizatio… │ 32)               │            │                   │\n",
      "├─────────────────────┼───────────────────┼────────────┼───────────────────┤\n",
      "│ expanded_conv_dept… │ (None, 112, 112,  │          0 │ expanded_conv_de… │\n",
      "│ (ReLU)              │ 32)               │            │                   │\n",
      "├─────────────────────┼───────────────────┼────────────┼───────────────────┤\n",
      "│ expanded_conv_proj… │ (None, 112, 112,  │        512 │ expanded_conv_de… │\n",
      "│ (Conv2D)            │ 16)               │            │                   │\n",
      "├─────────────────────┼───────────────────┼────────────┼───────────────────┤\n",
      "│ expanded_conv_proj… │ (None, 112, 112,  │         64 │ expanded_conv_pr… │\n",
      "│ (BatchNormalizatio… │ 16)               │            │                   │\n",
      "├─────────────────────┼───────────────────┼────────────┼───────────────────┤\n",
      "│ block_1_expand      │ (None, 112, 112,  │      1,536 │ expanded_conv_pr… │\n",
      "│ (Conv2D)            │ 96)               │            │                   │\n",
      "├─────────────────────┼───────────────────┼────────────┼───────────────────┤\n",
      "│ block_1_expand_BN   │ (None, 112, 112,  │        384 │ block_1_expand[0… │\n",
      "│ (BatchNormalizatio… │ 96)               │            │                   │\n",
      "├─────────────────────┼───────────────────┼────────────┼───────────────────┤\n",
      "│ block_1_expand_relu │ (None, 112, 112,  │          0 │ block_1_expand_B… │\n",
      "│ (ReLU)              │ 96)               │            │                   │\n",
      "├─────────────────────┼───────────────────┼────────────┼───────────────────┤\n",
      "│ block_1_pad         │ (None, 113, 113,  │          0 │ block_1_expand_r… │\n",
      "│ (ZeroPadding2D)     │ 96)               │            │                   │\n",
      "├─────────────────────┼───────────────────┼────────────┼───────────────────┤\n",
      "│ block_1_depthwise   │ (None, 56, 56,    │        864 │ block_1_pad[0][0] │\n",
      "│ (DepthwiseConv2D)   │ 96)               │            │                   │\n",
      "├─────────────────────┼───────────────────┼────────────┼───────────────────┤\n",
      "│ block_1_depthwise_… │ (None, 56, 56,    │        384 │ block_1_depthwis… │\n",
      "│ (BatchNormalizatio… │ 96)               │            │                   │\n",
      "├─────────────────────┼───────────────────┼────────────┼───────────────────┤\n",
      "│ block_1_depthwise_… │ (None, 56, 56,    │          0 │ block_1_depthwis… │\n",
      "│ (ReLU)              │ 96)               │            │                   │\n",
      "├─────────────────────┼───────────────────┼────────────┼───────────────────┤\n",
      "│ block_1_project     │ (None, 56, 56,    │      2,304 │ block_1_depthwis… │\n",
      "│ (Conv2D)            │ 24)               │            │                   │\n",
      "├─────────────────────┼───────────────────┼────────────┼───────────────────┤\n",
      "│ block_1_project_BN  │ (None, 56, 56,    │         96 │ block_1_project[… │\n",
      "│ (BatchNormalizatio… │ 24)               │            │                   │\n",
      "├─────────────────────┼───────────────────┼────────────┼───────────────────┤\n",
      "│ block_2_expand      │ (None, 56, 56,    │      3,456 │ block_1_project_… │\n",
      "│ (Conv2D)            │ 144)              │            │                   │\n",
      "├─────────────────────┼───────────────────┼────────────┼───────────────────┤\n",
      "│ block_2_expand_BN   │ (None, 56, 56,    │        576 │ block_2_expand[0… │\n",
      "│ (BatchNormalizatio… │ 144)              │            │                   │\n",
      "├─────────────────────┼───────────────────┼────────────┼───────────────────┤\n",
      "│ block_2_expand_relu │ (None, 56, 56,    │          0 │ block_2_expand_B… │\n",
      "│ (ReLU)              │ 144)              │            │                   │\n",
      "├─────────────────────┼───────────────────┼────────────┼───────────────────┤\n",
      "│ block_2_depthwise   │ (None, 56, 56,    │      1,296 │ block_2_expand_r… │\n",
      "│ (DepthwiseConv2D)   │ 144)              │            │                   │\n",
      "├─────────────────────┼───────────────────┼────────────┼───────────────────┤\n",
      "│ block_2_depthwise_… │ (None, 56, 56,    │        576 │ block_2_depthwis… │\n",
      "│ (BatchNormalizatio… │ 144)              │            │                   │\n",
      "├─────────────────────┼───────────────────┼────────────┼───────────────────┤\n",
      "│ block_2_depthwise_… │ (None, 56, 56,    │          0 │ block_2_depthwis… │\n",
      "│ (ReLU)              │ 144)              │            │                   │\n",
      "├─────────────────────┼───────────────────┼────────────┼───────────────────┤\n",
      "│ block_2_project     │ (None, 56, 56,    │      3,456 │ block_2_depthwis… │\n",
      "│ (Conv2D)            │ 24)               │            │                   │\n",
      "├─────────────────────┼───────────────────┼────────────┼───────────────────┤\n",
      "│ block_2_project_BN  │ (None, 56, 56,    │         96 │ block_2_project[… │\n",
      "│ (BatchNormalizatio… │ 24)               │            │                   │\n",
      "├─────────────────────┼───────────────────┼────────────┼───────────────────┤\n",
      "│ block_2_add (Add)   │ (None, 56, 56,    │          0 │ block_1_project_… │\n",
      "│                     │ 24)               │            │ block_2_project_… │\n",
      "├─────────────────────┼───────────────────┼────────────┼───────────────────┤\n",
      "│ block_3_expand      │ (None, 56, 56,    │      3,456 │ block_2_add[0][0] │\n",
      "│ (Conv2D)            │ 144)              │            │                   │\n",
      "├─────────────────────┼───────────────────┼────────────┼───────────────────┤\n",
      "│ block_3_expand_BN   │ (None, 56, 56,    │        576 │ block_3_expand[0… │\n",
      "│ (BatchNormalizatio… │ 144)              │            │                   │\n",
      "├─────────────────────┼───────────────────┼────────────┼───────────────────┤\n",
      "│ block_3_expand_relu │ (None, 56, 56,    │          0 │ block_3_expand_B… │\n",
      "│ (ReLU)              │ 144)              │            │                   │\n",
      "├─────────────────────┼───────────────────┼────────────┼───────────────────┤\n",
      "│ block_3_pad         │ (None, 57, 57,    │          0 │ block_3_expand_r… │\n",
      "│ (ZeroPadding2D)     │ 144)              │            │                   │\n",
      "├─────────────────────┼───────────────────┼────────────┼───────────────────┤\n",
      "│ block_3_depthwise   │ (None, 28, 28,    │      1,296 │ block_3_pad[0][0] │\n",
      "│ (DepthwiseConv2D)   │ 144)              │            │                   │\n",
      "├─────────────────────┼───────────────────┼────────────┼───────────────────┤\n",
      "│ block_3_depthwise_… │ (None, 28, 28,    │        576 │ block_3_depthwis… │\n",
      "│ (BatchNormalizatio… │ 144)              │            │                   │\n",
      "├─────────────────────┼───────────────────┼────────────┼───────────────────┤\n",
      "│ block_3_depthwise_… │ (None, 28, 28,    │          0 │ block_3_depthwis… │\n",
      "│ (ReLU)              │ 144)              │            │                   │\n",
      "├─────────────────────┼───────────────────┼────────────┼───────────────────┤\n",
      "│ block_3_project     │ (None, 28, 28,    │      4,608 │ block_3_depthwis… │\n",
      "│ (Conv2D)            │ 32)               │            │                   │\n",
      "├─────────────────────┼───────────────────┼────────────┼───────────────────┤\n",
      "│ block_3_project_BN  │ (None, 28, 28,    │        128 │ block_3_project[… │\n",
      "│ (BatchNormalizatio… │ 32)               │            │                   │\n",
      "├─────────────────────┼───────────────────┼────────────┼───────────────────┤\n",
      "│ block_4_expand      │ (None, 28, 28,    │      6,144 │ block_3_project_… │\n",
      "│ (Conv2D)            │ 192)              │            │                   │\n",
      "├─────────────────────┼───────────────────┼────────────┼───────────────────┤\n",
      "│ block_4_expand_BN   │ (None, 28, 28,    │        768 │ block_4_expand[0… │\n",
      "│ (BatchNormalizatio… │ 192)              │            │                   │\n",
      "├─────────────────────┼───────────────────┼────────────┼───────────────────┤\n",
      "│ block_4_expand_relu │ (None, 28, 28,    │          0 │ block_4_expand_B… │\n",
      "│ (ReLU)              │ 192)              │            │                   │\n",
      "├─────────────────────┼───────────────────┼────────────┼───────────────────┤\n",
      "│ block_4_depthwise   │ (None, 28, 28,    │      1,728 │ block_4_expand_r… │\n",
      "│ (DepthwiseConv2D)   │ 192)              │            │                   │\n",
      "├─────────────────────┼───────────────────┼────────────┼───────────────────┤\n",
      "│ block_4_depthwise_… │ (None, 28, 28,    │        768 │ block_4_depthwis… │\n",
      "│ (BatchNormalizatio… │ 192)              │            │                   │\n",
      "├─────────────────────┼───────────────────┼────────────┼───────────────────┤\n",
      "│ block_4_depthwise_… │ (None, 28, 28,    │          0 │ block_4_depthwis… │\n",
      "│ (ReLU)              │ 192)              │            │                   │\n",
      "├─────────────────────┼───────────────────┼────────────┼───────────────────┤\n",
      "│ block_4_project     │ (None, 28, 28,    │      6,144 │ block_4_depthwis… │\n",
      "│ (Conv2D)            │ 32)               │            │                   │\n",
      "├─────────────────────┼───────────────────┼────────────┼───────────────────┤\n",
      "│ block_4_project_BN  │ (None, 28, 28,    │        128 │ block_4_project[… │\n",
      "│ (BatchNormalizatio… │ 32)               │            │                   │\n",
      "├─────────────────────┼───────────────────┼────────────┼───────────────────┤\n",
      "│ block_4_add (Add)   │ (None, 28, 28,    │          0 │ block_3_project_… │\n",
      "│                     │ 32)               │            │ block_4_project_… │\n",
      "├─────────────────────┼───────────────────┼────────────┼───────────────────┤\n",
      "│ block_5_expand      │ (None, 28, 28,    │      6,144 │ block_4_add[0][0] │\n",
      "│ (Conv2D)            │ 192)              │            │                   │\n",
      "├─────────────────────┼───────────────────┼────────────┼───────────────────┤\n",
      "│ block_5_expand_BN   │ (None, 28, 28,    │        768 │ block_5_expand[0… │\n",
      "│ (BatchNormalizatio… │ 192)              │            │                   │\n",
      "├─────────────────────┼───────────────────┼────────────┼───────────────────┤\n",
      "│ block_5_expand_relu │ (None, 28, 28,    │          0 │ block_5_expand_B… │\n",
      "│ (ReLU)              │ 192)              │            │                   │\n",
      "├─────────────────────┼───────────────────┼────────────┼───────────────────┤\n",
      "│ block_5_depthwise   │ (None, 28, 28,    │      1,728 │ block_5_expand_r… │\n",
      "│ (DepthwiseConv2D)   │ 192)              │            │                   │\n",
      "├─────────────────────┼───────────────────┼────────────┼───────────────────┤\n",
      "│ block_5_depthwise_… │ (None, 28, 28,    │        768 │ block_5_depthwis… │\n",
      "│ (BatchNormalizatio… │ 192)              │            │                   │\n",
      "├─────────────────────┼───────────────────┼────────────┼───────────────────┤\n",
      "│ block_5_depthwise_… │ (None, 28, 28,    │          0 │ block_5_depthwis… │\n",
      "│ (ReLU)              │ 192)              │            │                   │\n",
      "├─────────────────────┼───────────────────┼────────────┼───────────────────┤\n",
      "│ block_5_project     │ (None, 28, 28,    │      6,144 │ block_5_depthwis… │\n",
      "│ (Conv2D)            │ 32)               │            │                   │\n",
      "├─────────────────────┼───────────────────┼────────────┼───────────────────┤\n",
      "│ block_5_project_BN  │ (None, 28, 28,    │        128 │ block_5_project[… │\n",
      "│ (BatchNormalizatio… │ 32)               │            │                   │\n",
      "├─────────────────────┼───────────────────┼────────────┼───────────────────┤\n",
      "│ block_5_add (Add)   │ (None, 28, 28,    │          0 │ block_4_add[0][0… │\n",
      "│                     │ 32)               │            │ block_5_project_… │\n",
      "├─────────────────────┼───────────────────┼────────────┼───────────────────┤\n",
      "│ block_6_expand      │ (None, 28, 28,    │      6,144 │ block_5_add[0][0] │\n",
      "│ (Conv2D)            │ 192)              │            │                   │\n",
      "├─────────────────────┼───────────────────┼────────────┼───────────────────┤\n",
      "│ block_6_expand_BN   │ (None, 28, 28,    │        768 │ block_6_expand[0… │\n",
      "│ (BatchNormalizatio… │ 192)              │            │                   │\n",
      "├─────────────────────┼───────────────────┼────────────┼───────────────────┤\n",
      "│ block_6_expand_relu │ (None, 28, 28,    │          0 │ block_6_expand_B… │\n",
      "│ (ReLU)              │ 192)              │            │                   │\n",
      "├─────────────────────┼───────────────────┼────────────┼───────────────────┤\n",
      "│ block_6_pad         │ (None, 29, 29,    │          0 │ block_6_expand_r… │\n",
      "│ (ZeroPadding2D)     │ 192)              │            │                   │\n",
      "├─────────────────────┼───────────────────┼────────────┼───────────────────┤\n",
      "│ block_6_depthwise   │ (None, 14, 14,    │      1,728 │ block_6_pad[0][0] │\n",
      "│ (DepthwiseConv2D)   │ 192)              │            │                   │\n",
      "├─────────────────────┼───────────────────┼────────────┼───────────────────┤\n",
      "│ block_6_depthwise_… │ (None, 14, 14,    │        768 │ block_6_depthwis… │\n",
      "│ (BatchNormalizatio… │ 192)              │            │                   │\n",
      "├─────────────────────┼───────────────────┼────────────┼───────────────────┤\n",
      "│ block_6_depthwise_… │ (None, 14, 14,    │          0 │ block_6_depthwis… │\n",
      "│ (ReLU)              │ 192)              │            │                   │\n",
      "├─────────────────────┼───────────────────┼────────────┼───────────────────┤\n",
      "│ block_6_project     │ (None, 14, 14,    │     12,288 │ block_6_depthwis… │\n",
      "│ (Conv2D)            │ 64)               │            │                   │\n",
      "├─────────────────────┼───────────────────┼────────────┼───────────────────┤\n",
      "│ block_6_project_BN  │ (None, 14, 14,    │        256 │ block_6_project[… │\n",
      "│ (BatchNormalizatio… │ 64)               │            │                   │\n",
      "├─────────────────────┼───────────────────┼────────────┼───────────────────┤\n",
      "│ block_7_expand      │ (None, 14, 14,    │     24,576 │ block_6_project_… │\n",
      "│ (Conv2D)            │ 384)              │            │                   │\n",
      "├─────────────────────┼───────────────────┼────────────┼───────────────────┤\n",
      "│ block_7_expand_BN   │ (None, 14, 14,    │      1,536 │ block_7_expand[0… │\n",
      "│ (BatchNormalizatio… │ 384)              │            │                   │\n",
      "├─────────────────────┼───────────────────┼────────────┼───────────────────┤\n",
      "│ block_7_expand_relu │ (None, 14, 14,    │          0 │ block_7_expand_B… │\n",
      "│ (ReLU)              │ 384)              │            │                   │\n",
      "├─────────────────────┼───────────────────┼────────────┼───────────────────┤\n",
      "│ block_7_depthwise   │ (None, 14, 14,    │      3,456 │ block_7_expand_r… │\n",
      "│ (DepthwiseConv2D)   │ 384)              │            │                   │\n",
      "├─────────────────────┼───────────────────┼────────────┼───────────────────┤\n",
      "│ block_7_depthwise_… │ (None, 14, 14,    │      1,536 │ block_7_depthwis… │\n",
      "│ (BatchNormalizatio… │ 384)              │            │                   │\n",
      "├─────────────────────┼───────────────────┼────────────┼───────────────────┤\n",
      "│ block_7_depthwise_… │ (None, 14, 14,    │          0 │ block_7_depthwis… │\n",
      "│ (ReLU)              │ 384)              │            │                   │\n",
      "├─────────────────────┼───────────────────┼────────────┼───────────────────┤\n",
      "│ block_7_project     │ (None, 14, 14,    │     24,576 │ block_7_depthwis… │\n",
      "│ (Conv2D)            │ 64)               │            │                   │\n",
      "├─────────────────────┼───────────────────┼────────────┼───────────────────┤\n",
      "│ block_7_project_BN  │ (None, 14, 14,    │        256 │ block_7_project[… │\n",
      "│ (BatchNormalizatio… │ 64)               │            │                   │\n",
      "├─────────────────────┼───────────────────┼────────────┼───────────────────┤\n",
      "│ block_7_add (Add)   │ (None, 14, 14,    │          0 │ block_6_project_… │\n",
      "│                     │ 64)               │            │ block_7_project_… │\n",
      "├─────────────────────┼───────────────────┼────────────┼───────────────────┤\n",
      "│ block_8_expand      │ (None, 14, 14,    │     24,576 │ block_7_add[0][0] │\n",
      "│ (Conv2D)            │ 384)              │            │                   │\n",
      "├─────────────────────┼───────────────────┼────────────┼───────────────────┤\n",
      "│ block_8_expand_BN   │ (None, 14, 14,    │      1,536 │ block_8_expand[0… │\n",
      "│ (BatchNormalizatio… │ 384)              │            │                   │\n",
      "├─────────────────────┼───────────────────┼────────────┼───────────────────┤\n",
      "│ block_8_expand_relu │ (None, 14, 14,    │          0 │ block_8_expand_B… │\n",
      "│ (ReLU)              │ 384)              │            │                   │\n",
      "├─────────────────────┼───────────────────┼────────────┼───────────────────┤\n",
      "│ block_8_depthwise   │ (None, 14, 14,    │      3,456 │ block_8_expand_r… │\n",
      "│ (DepthwiseConv2D)   │ 384)              │            │                   │\n",
      "├─────────────────────┼───────────────────┼────────────┼───────────────────┤\n",
      "│ block_8_depthwise_… │ (None, 14, 14,    │      1,536 │ block_8_depthwis… │\n",
      "│ (BatchNormalizatio… │ 384)              │            │                   │\n",
      "├─────────────────────┼───────────────────┼────────────┼───────────────────┤\n",
      "│ block_8_depthwise_… │ (None, 14, 14,    │          0 │ block_8_depthwis… │\n",
      "│ (ReLU)              │ 384)              │            │                   │\n",
      "├─────────────────────┼───────────────────┼────────────┼───────────────────┤\n",
      "│ block_8_project     │ (None, 14, 14,    │     24,576 │ block_8_depthwis… │\n",
      "│ (Conv2D)            │ 64)               │            │                   │\n",
      "├─────────────────────┼───────────────────┼────────────┼───────────────────┤\n",
      "│ block_8_project_BN  │ (None, 14, 14,    │        256 │ block_8_project[… │\n",
      "│ (BatchNormalizatio… │ 64)               │            │                   │\n",
      "├─────────────────────┼───────────────────┼────────────┼───────────────────┤\n",
      "│ block_8_add (Add)   │ (None, 14, 14,    │          0 │ block_7_add[0][0… │\n",
      "│                     │ 64)               │            │ block_8_project_… │\n",
      "├─────────────────────┼───────────────────┼────────────┼───────────────────┤\n",
      "│ block_9_expand      │ (None, 14, 14,    │     24,576 │ block_8_add[0][0] │\n",
      "│ (Conv2D)            │ 384)              │            │                   │\n",
      "├─────────────────────┼───────────────────┼────────────┼───────────────────┤\n",
      "│ block_9_expand_BN   │ (None, 14, 14,    │      1,536 │ block_9_expand[0… │\n",
      "│ (BatchNormalizatio… │ 384)              │            │                   │\n",
      "├─────────────────────┼───────────────────┼────────────┼───────────────────┤\n",
      "│ block_9_expand_relu │ (None, 14, 14,    │          0 │ block_9_expand_B… │\n",
      "│ (ReLU)              │ 384)              │            │                   │\n",
      "├─────────────────────┼───────────────────┼────────────┼───────────────────┤\n",
      "│ block_9_depthwise   │ (None, 14, 14,    │      3,456 │ block_9_expand_r… │\n",
      "│ (DepthwiseConv2D)   │ 384)              │            │                   │\n",
      "├─────────────────────┼───────────────────┼────────────┼───────────────────┤\n",
      "│ block_9_depthwise_… │ (None, 14, 14,    │      1,536 │ block_9_depthwis… │\n",
      "│ (BatchNormalizatio… │ 384)              │            │                   │\n",
      "├─────────────────────┼───────────────────┼────────────┼───────────────────┤\n",
      "│ block_9_depthwise_… │ (None, 14, 14,    │          0 │ block_9_depthwis… │\n",
      "│ (ReLU)              │ 384)              │            │                   │\n",
      "├─────────────────────┼───────────────────┼────────────┼───────────────────┤\n",
      "│ block_9_project     │ (None, 14, 14,    │     24,576 │ block_9_depthwis… │\n",
      "│ (Conv2D)            │ 64)               │            │                   │\n",
      "├─────────────────────┼───────────────────┼────────────┼───────────────────┤\n",
      "│ block_9_project_BN  │ (None, 14, 14,    │        256 │ block_9_project[… │\n",
      "│ (BatchNormalizatio… │ 64)               │            │                   │\n",
      "├─────────────────────┼───────────────────┼────────────┼───────────────────┤\n",
      "│ block_9_add (Add)   │ (None, 14, 14,    │          0 │ block_8_add[0][0… │\n",
      "│                     │ 64)               │            │ block_9_project_… │\n",
      "├─────────────────────┼───────────────────┼────────────┼───────────────────┤\n",
      "│ block_10_expand     │ (None, 14, 14,    │     24,576 │ block_9_add[0][0] │\n",
      "│ (Conv2D)            │ 384)              │            │                   │\n",
      "├─────────────────────┼───────────────────┼────────────┼───────────────────┤\n",
      "│ block_10_expand_BN  │ (None, 14, 14,    │      1,536 │ block_10_expand[… │\n",
      "│ (BatchNormalizatio… │ 384)              │            │                   │\n",
      "├─────────────────────┼───────────────────┼────────────┼───────────────────┤\n",
      "│ block_10_expand_re… │ (None, 14, 14,    │          0 │ block_10_expand_… │\n",
      "│ (ReLU)              │ 384)              │            │                   │\n",
      "├─────────────────────┼───────────────────┼────────────┼───────────────────┤\n",
      "│ block_10_depthwise  │ (None, 14, 14,    │      3,456 │ block_10_expand_… │\n",
      "│ (DepthwiseConv2D)   │ 384)              │            │                   │\n",
      "├─────────────────────┼───────────────────┼────────────┼───────────────────┤\n",
      "│ block_10_depthwise… │ (None, 14, 14,    │      1,536 │ block_10_depthwi… │\n",
      "│ (BatchNormalizatio… │ 384)              │            │                   │\n",
      "├─────────────────────┼───────────────────┼────────────┼───────────────────┤\n",
      "│ block_10_depthwise… │ (None, 14, 14,    │          0 │ block_10_depthwi… │\n",
      "│ (ReLU)              │ 384)              │            │                   │\n",
      "├─────────────────────┼───────────────────┼────────────┼───────────────────┤\n",
      "│ block_10_project    │ (None, 14, 14,    │     36,864 │ block_10_depthwi… │\n",
      "│ (Conv2D)            │ 96)               │            │                   │\n",
      "├─────────────────────┼───────────────────┼────────────┼───────────────────┤\n",
      "│ block_10_project_BN │ (None, 14, 14,    │        384 │ block_10_project… │\n",
      "│ (BatchNormalizatio… │ 96)               │            │                   │\n",
      "├─────────────────────┼───────────────────┼────────────┼───────────────────┤\n",
      "│ block_11_expand     │ (None, 14, 14,    │     55,296 │ block_10_project… │\n",
      "│ (Conv2D)            │ 576)              │            │                   │\n",
      "├─────────────────────┼───────────────────┼────────────┼───────────────────┤\n",
      "│ block_11_expand_BN  │ (None, 14, 14,    │      2,304 │ block_11_expand[… │\n",
      "│ (BatchNormalizatio… │ 576)              │            │                   │\n",
      "├─────────────────────┼───────────────────┼────────────┼───────────────────┤\n",
      "│ block_11_expand_re… │ (None, 14, 14,    │          0 │ block_11_expand_… │\n",
      "│ (ReLU)              │ 576)              │            │                   │\n",
      "├─────────────────────┼───────────────────┼────────────┼───────────────────┤\n",
      "│ block_11_depthwise  │ (None, 14, 14,    │      5,184 │ block_11_expand_… │\n",
      "│ (DepthwiseConv2D)   │ 576)              │            │                   │\n",
      "├─────────────────────┼───────────────────┼────────────┼───────────────────┤\n",
      "│ block_11_depthwise… │ (None, 14, 14,    │      2,304 │ block_11_depthwi… │\n",
      "│ (BatchNormalizatio… │ 576)              │            │                   │\n",
      "├─────────────────────┼───────────────────┼────────────┼───────────────────┤\n",
      "│ block_11_depthwise… │ (None, 14, 14,    │          0 │ block_11_depthwi… │\n",
      "│ (ReLU)              │ 576)              │            │                   │\n",
      "├─────────────────────┼───────────────────┼────────────┼───────────────────┤\n",
      "│ block_11_project    │ (None, 14, 14,    │     55,296 │ block_11_depthwi… │\n",
      "│ (Conv2D)            │ 96)               │            │                   │\n",
      "├─────────────────────┼───────────────────┼────────────┼───────────────────┤\n",
      "│ block_11_project_BN │ (None, 14, 14,    │        384 │ block_11_project… │\n",
      "│ (BatchNormalizatio… │ 96)               │            │                   │\n",
      "├─────────────────────┼───────────────────┼────────────┼───────────────────┤\n",
      "│ block_11_add (Add)  │ (None, 14, 14,    │          0 │ block_10_project… │\n",
      "│                     │ 96)               │            │ block_11_project… │\n",
      "├─────────────────────┼───────────────────┼────────────┼───────────────────┤\n",
      "│ block_12_expand     │ (None, 14, 14,    │     55,296 │ block_11_add[0][… │\n",
      "│ (Conv2D)            │ 576)              │            │                   │\n",
      "├─────────────────────┼───────────────────┼────────────┼───────────────────┤\n",
      "│ block_12_expand_BN  │ (None, 14, 14,    │      2,304 │ block_12_expand[… │\n",
      "│ (BatchNormalizatio… │ 576)              │            │                   │\n",
      "├─────────────────────┼───────────────────┼────────────┼───────────────────┤\n",
      "│ block_12_expand_re… │ (None, 14, 14,    │          0 │ block_12_expand_… │\n",
      "│ (ReLU)              │ 576)              │            │                   │\n",
      "├─────────────────────┼───────────────────┼────────────┼───────────────────┤\n",
      "│ block_12_depthwise  │ (None, 14, 14,    │      5,184 │ block_12_expand_… │\n",
      "│ (DepthwiseConv2D)   │ 576)              │            │                   │\n",
      "├─────────────────────┼───────────────────┼────────────┼───────────────────┤\n",
      "│ block_12_depthwise… │ (None, 14, 14,    │      2,304 │ block_12_depthwi… │\n",
      "│ (BatchNormalizatio… │ 576)              │            │                   │\n",
      "├─────────────────────┼───────────────────┼────────────┼───────────────────┤\n",
      "│ block_12_depthwise… │ (None, 14, 14,    │          0 │ block_12_depthwi… │\n",
      "│ (ReLU)              │ 576)              │            │                   │\n",
      "├─────────────────────┼───────────────────┼────────────┼───────────────────┤\n",
      "│ block_12_project    │ (None, 14, 14,    │     55,296 │ block_12_depthwi… │\n",
      "│ (Conv2D)            │ 96)               │            │                   │\n",
      "├─────────────────────┼───────────────────┼────────────┼───────────────────┤\n",
      "│ block_12_project_BN │ (None, 14, 14,    │        384 │ block_12_project… │\n",
      "│ (BatchNormalizatio… │ 96)               │            │                   │\n",
      "├─────────────────────┼───────────────────┼────────────┼───────────────────┤\n",
      "│ block_12_add (Add)  │ (None, 14, 14,    │          0 │ block_11_add[0][… │\n",
      "│                     │ 96)               │            │ block_12_project… │\n",
      "├─────────────────────┼───────────────────┼────────────┼───────────────────┤\n",
      "│ block_13_expand     │ (None, 14, 14,    │     55,296 │ block_12_add[0][… │\n",
      "│ (Conv2D)            │ 576)              │            │                   │\n",
      "├─────────────────────┼───────────────────┼────────────┼───────────────────┤\n",
      "│ block_13_expand_BN  │ (None, 14, 14,    │      2,304 │ block_13_expand[… │\n",
      "│ (BatchNormalizatio… │ 576)              │            │                   │\n",
      "├─────────────────────┼───────────────────┼────────────┼───────────────────┤\n",
      "│ block_13_expand_re… │ (None, 14, 14,    │          0 │ block_13_expand_… │\n",
      "│ (ReLU)              │ 576)              │            │                   │\n",
      "├─────────────────────┼───────────────────┼────────────┼───────────────────┤\n",
      "│ block_13_pad        │ (None, 15, 15,    │          0 │ block_13_expand_… │\n",
      "│ (ZeroPadding2D)     │ 576)              │            │                   │\n",
      "├─────────────────────┼───────────────────┼────────────┼───────────────────┤\n",
      "│ block_13_depthwise  │ (None, 7, 7, 576) │      5,184 │ block_13_pad[0][… │\n",
      "│ (DepthwiseConv2D)   │                   │            │                   │\n",
      "├─────────────────────┼───────────────────┼────────────┼───────────────────┤\n",
      "│ block_13_depthwise… │ (None, 7, 7, 576) │      2,304 │ block_13_depthwi… │\n",
      "│ (BatchNormalizatio… │                   │            │                   │\n",
      "├─────────────────────┼───────────────────┼────────────┼───────────────────┤\n",
      "│ block_13_depthwise… │ (None, 7, 7, 576) │          0 │ block_13_depthwi… │\n",
      "│ (ReLU)              │                   │            │                   │\n",
      "├─────────────────────┼───────────────────┼────────────┼───────────────────┤\n",
      "│ block_13_project    │ (None, 7, 7, 160) │     92,160 │ block_13_depthwi… │\n",
      "│ (Conv2D)            │                   │            │                   │\n",
      "├─────────────────────┼───────────────────┼────────────┼───────────────────┤\n",
      "│ block_13_project_BN │ (None, 7, 7, 160) │        640 │ block_13_project… │\n",
      "│ (BatchNormalizatio… │                   │            │                   │\n",
      "├─────────────────────┼───────────────────┼────────────┼───────────────────┤\n",
      "│ block_14_expand     │ (None, 7, 7, 960) │    153,600 │ block_13_project… │\n",
      "│ (Conv2D)            │                   │            │                   │\n",
      "├─────────────────────┼───────────────────┼────────────┼───────────────────┤\n",
      "│ block_14_expand_BN  │ (None, 7, 7, 960) │      3,840 │ block_14_expand[… │\n",
      "│ (BatchNormalizatio… │                   │            │                   │\n",
      "├─────────────────────┼───────────────────┼────────────┼───────────────────┤\n",
      "│ block_14_expand_re… │ (None, 7, 7, 960) │          0 │ block_14_expand_… │\n",
      "│ (ReLU)              │                   │            │                   │\n",
      "├─────────────────────┼───────────────────┼────────────┼───────────────────┤\n",
      "│ block_14_depthwise  │ (None, 7, 7, 960) │      8,640 │ block_14_expand_… │\n",
      "│ (DepthwiseConv2D)   │                   │            │                   │\n",
      "├─────────────────────┼───────────────────┼────────────┼───────────────────┤\n",
      "│ block_14_depthwise… │ (None, 7, 7, 960) │      3,840 │ block_14_depthwi… │\n",
      "│ (BatchNormalizatio… │                   │            │                   │\n",
      "├─────────────────────┼───────────────────┼────────────┼───────────────────┤\n",
      "│ block_14_depthwise… │ (None, 7, 7, 960) │          0 │ block_14_depthwi… │\n",
      "│ (ReLU)              │                   │            │                   │\n",
      "├─────────────────────┼───────────────────┼────────────┼───────────────────┤\n",
      "│ block_14_project    │ (None, 7, 7, 160) │    153,600 │ block_14_depthwi… │\n",
      "│ (Conv2D)            │                   │            │                   │\n",
      "├─────────────────────┼───────────────────┼────────────┼───────────────────┤\n",
      "│ block_14_project_BN │ (None, 7, 7, 160) │        640 │ block_14_project… │\n",
      "│ (BatchNormalizatio… │                   │            │                   │\n",
      "├─────────────────────┼───────────────────┼────────────┼───────────────────┤\n",
      "│ block_14_add (Add)  │ (None, 7, 7, 160) │          0 │ block_13_project… │\n",
      "│                     │                   │            │ block_14_project… │\n",
      "├─────────────────────┼───────────────────┼────────────┼───────────────────┤\n",
      "│ block_15_expand     │ (None, 7, 7, 960) │    153,600 │ block_14_add[0][… │\n",
      "│ (Conv2D)            │                   │            │                   │\n",
      "├─────────────────────┼───────────────────┼────────────┼───────────────────┤\n",
      "│ block_15_expand_BN  │ (None, 7, 7, 960) │      3,840 │ block_15_expand[… │\n",
      "│ (BatchNormalizatio… │                   │            │                   │\n",
      "├─────────────────────┼───────────────────┼────────────┼───────────────────┤\n",
      "│ block_15_expand_re… │ (None, 7, 7, 960) │          0 │ block_15_expand_… │\n",
      "│ (ReLU)              │                   │            │                   │\n",
      "├─────────────────────┼───────────────────┼────────────┼───────────────────┤\n",
      "│ block_15_depthwise  │ (None, 7, 7, 960) │      8,640 │ block_15_expand_… │\n",
      "│ (DepthwiseConv2D)   │                   │            │                   │\n",
      "├─────────────────────┼───────────────────┼────────────┼───────────────────┤\n",
      "│ block_15_depthwise… │ (None, 7, 7, 960) │      3,840 │ block_15_depthwi… │\n",
      "│ (BatchNormalizatio… │                   │            │                   │\n",
      "├─────────────────────┼───────────────────┼────────────┼───────────────────┤\n",
      "│ block_15_depthwise… │ (None, 7, 7, 960) │          0 │ block_15_depthwi… │\n",
      "│ (ReLU)              │                   │            │                   │\n",
      "├─────────────────────┼───────────────────┼────────────┼───────────────────┤\n",
      "│ block_15_project    │ (None, 7, 7, 160) │    153,600 │ block_15_depthwi… │\n",
      "│ (Conv2D)            │                   │            │                   │\n",
      "├─────────────────────┼───────────────────┼────────────┼───────────────────┤\n",
      "│ block_15_project_BN │ (None, 7, 7, 160) │        640 │ block_15_project… │\n",
      "│ (BatchNormalizatio… │                   │            │                   │\n",
      "├─────────────────────┼───────────────────┼────────────┼───────────────────┤\n",
      "│ block_15_add (Add)  │ (None, 7, 7, 160) │          0 │ block_14_add[0][… │\n",
      "│                     │                   │            │ block_15_project… │\n",
      "├─────────────────────┼───────────────────┼────────────┼───────────────────┤\n",
      "│ block_16_expand     │ (None, 7, 7, 960) │    153,600 │ block_15_add[0][… │\n",
      "│ (Conv2D)            │                   │            │                   │\n",
      "├─────────────────────┼───────────────────┼────────────┼───────────────────┤\n",
      "│ block_16_expand_BN  │ (None, 7, 7, 960) │      3,840 │ block_16_expand[… │\n",
      "│ (BatchNormalizatio… │                   │            │                   │\n",
      "├─────────────────────┼───────────────────┼────────────┼───────────────────┤\n",
      "│ block_16_expand_re… │ (None, 7, 7, 960) │          0 │ block_16_expand_… │\n",
      "│ (ReLU)              │                   │            │                   │\n",
      "├─────────────────────┼───────────────────┼────────────┼───────────────────┤\n",
      "│ block_16_depthwise  │ (None, 7, 7, 960) │      8,640 │ block_16_expand_… │\n",
      "│ (DepthwiseConv2D)   │                   │            │                   │\n",
      "├─────────────────────┼───────────────────┼────────────┼───────────────────┤\n",
      "│ block_16_depthwise… │ (None, 7, 7, 960) │      3,840 │ block_16_depthwi… │\n",
      "│ (BatchNormalizatio… │                   │            │                   │\n",
      "├─────────────────────┼───────────────────┼────────────┼───────────────────┤\n",
      "│ block_16_depthwise… │ (None, 7, 7, 960) │          0 │ block_16_depthwi… │\n",
      "│ (ReLU)              │                   │            │                   │\n",
      "├─────────────────────┼───────────────────┼────────────┼───────────────────┤\n",
      "│ block_16_project    │ (None, 7, 7, 320) │    307,200 │ block_16_depthwi… │\n",
      "│ (Conv2D)            │                   │            │                   │\n",
      "├─────────────────────┼───────────────────┼────────────┼───────────────────┤\n",
      "│ block_16_project_BN │ (None, 7, 7, 320) │      1,280 │ block_16_project… │\n",
      "│ (BatchNormalizatio… │                   │            │                   │\n",
      "├─────────────────────┼───────────────────┼────────────┼───────────────────┤\n",
      "│ Conv_1 (Conv2D)     │ (None, 7, 7,      │    409,600 │ block_16_project… │\n",
      "│                     │ 1280)             │            │                   │\n",
      "├─────────────────────┼───────────────────┼────────────┼───────────────────┤\n",
      "│ Conv_1_bn           │ (None, 7, 7,      │      5,120 │ Conv_1[0][0]      │\n",
      "│ (BatchNormalizatio… │ 1280)             │            │                   │\n",
      "├─────────────────────┼───────────────────┼────────────┼───────────────────┤\n",
      "│ out_relu (ReLU)     │ (None, 7, 7,      │          0 │ Conv_1_bn[0][0]   │\n",
      "│                     │ 1280)             │            │                   │\n",
      "├─────────────────────┼───────────────────┼────────────┼───────────────────┤\n",
      "│ global_average_poo… │ (None, 1280)      │          0 │ out_relu[0][0]    │\n",
      "│ (GlobalAveragePool… │                   │            │                   │\n",
      "└─────────────────────┴───────────────────┴────────────┴───────────────────┘\n",
      " Total params: 2,257,984 (8.61 MB)\n",
      " Trainable params: 2,223,872 (8.48 MB)\n",
      " Non-trainable params: 34,112 (133.25 KB)"
     ]
    }
   ],
   "source": [
    "model_cnn_truncated.summary()"
   ]
  },
  {
   "cell_type": "markdown",
   "id": "b8d5d031",
   "metadata": {},
   "source": [
    "#### Diffusion des poids du modèle"
   ]
  },
  {
   "cell_type": "code",
   "execution_count": 398,
   "id": "dfd19aed-a2cd-4ce2-93cc-dc3ebb002bdd",
   "metadata": {},
   "outputs": [
    {
     "data": {
      "application/vnd.jupyter.widget-view+json": {
       "model_id": "",
       "version_major": 2,
       "version_minor": 0
      },
      "text/plain": [
       "FloatProgress(value=0.0, bar_style='info', description='Progress:', layout=Layout(height='25px', width='50%'),…"
      ]
     },
     "metadata": {},
     "output_type": "display_data"
    },
    {
     "name": "stdout",
     "output_type": "stream",
     "text": [
      "<pyspark.broadcast.Broadcast object at 0x7ff36d117130>"
     ]
    }
   ],
   "source": [
    "sc.broadcast(model_cnn_truncated.get_weights())"
   ]
  },
  {
   "cell_type": "markdown",
   "id": "c032f135",
   "metadata": {},
   "source": [
    "### Fonction de changement de résolution des images"
   ]
  },
  {
   "cell_type": "code",
   "execution_count": 399,
   "id": "933100cf",
   "metadata": {
    "scrolled": true
   },
   "outputs": [
    {
     "data": {
      "application/vnd.jupyter.widget-view+json": {
       "model_id": "",
       "version_major": 2,
       "version_minor": 0
      },
      "text/plain": [
       "FloatProgress(value=0.0, bar_style='info', description='Progress:', layout=Layout(height='25px', width='50%'),…"
      ]
     },
     "metadata": {},
     "output_type": "display_data"
    }
   ],
   "source": [
    "def preprocess_image(content):\n",
    "    '''\n",
    "    Preprocesses raw image bytes for prediction.\n",
    "    '''\n",
    "    #img_image = Image.open(io.BytesIO(content)).resize([224, 224])\n",
    "    np_image_original = np.frombuffer(content, np.uint8)\n",
    "    img_original = cv2.imdecode(np_image_original, cv2.IMREAD_COLOR)\n",
    "    img_resized  = cv2.resize(img_original, (224, 224))\n",
    "    np_image_resized = k.preprocessing.image.img_to_array(img_resized)\n",
    "    return k.applications.mobilenet_v2.preprocess_input(np_image_resized)"
   ]
  },
  {
   "cell_type": "markdown",
   "id": "1044a76c",
   "metadata": {},
   "source": [
    "### Fonctions de génération d’attributs par lots\n",
    "- Traitement distribuée par lots de DataFrames d’images\n",
    "    - divise l’ensemble de DataFrames en lots\n",
    "    - itère sur les lots\n",
    "    - récupère les résultats de l’ensemble de lots "
   ]
  },
  {
   "cell_type": "markdown",
   "id": "960e86eb",
   "metadata": {},
   "source": [
    "#### Fonction de prédiction d'attributs\n",
    "- fonction Spark UDF de traitement distribué de Pandas\n",
    "- traite les DataFrames par lots\n",
    "- charge le modèle une seule fois\n",
    "- appelle get_predicted_features() par lots "
   ]
  },
  {
   "cell_type": "code",
   "execution_count": 400,
   "id": "f4a9e091",
   "metadata": {
    "scrolled": true
   },
   "outputs": [
    {
     "data": {
      "application/vnd.jupyter.widget-view+json": {
       "model_id": "",
       "version_major": 2,
       "version_minor": 0
      },
      "text/plain": [
       "FloatProgress(value=0.0, bar_style='info', description='Progress:', layout=Layout(height='25px', width='50%'),…"
      ]
     },
     "metadata": {},
     "output_type": "display_data"
    }
   ],
   "source": [
    "def get_predicted_features(model, content_series):\n",
    "    '''\n",
    "    Featurize a pd.Series of raw images using the input model.\n",
    "    :return: a pd.Series of image features\n",
    "    '''\n",
    "    input = np.stack(content_series.map(preprocess_image))\n",
    "    preds = model.predict(input)\n",
    "    # For some layers, output features will be multi-dimensional tensors.\n",
    "    # We flatten the feature tensors to vectors for easier storage in Spark DataFrames.\n",
    "    output = [p.flatten() for p in preds]\n",
    "    return pd.Series(output)"
   ]
  },
  {
   "cell_type": "markdown",
   "id": "93901b4c",
   "metadata": {},
   "source": [
    "#### Fonction d'appel de _get_predicted_features()_ par lots d'images\n",
    "- traite un seul lot \n",
    "- applique preprocess() au lot\n",
    "- applique predict() au lot\n",
    "- convertit un lot de tensors générés en lot de tableaux Numpy d’attributs"
   ]
  },
  {
   "cell_type": "raw",
   "id": "3bf8c29e",
   "metadata": {},
   "source": [
    "@pandas_udf('array<float>')\n",
    "def get_predicted_features_udf(content_series_iter: Iterator[pd.Series]) -> Iterator[pd.Series]:\n",
    "    for content_series in content_series_iter:\n",
    "        yield get_predicted_features(model_cnn_truncated, content_series)"
   ]
  },
  {
   "cell_type": "code",
   "execution_count": 401,
   "id": "18989330",
   "metadata": {
    "scrolled": true
   },
   "outputs": [
    {
     "data": {
      "application/vnd.jupyter.widget-view+json": {
       "model_id": "",
       "version_major": 2,
       "version_minor": 0
      },
      "text/plain": [
       "FloatProgress(value=0.0, bar_style='info', description='Progress:', layout=Layout(height='25px', width='50%'),…"
      ]
     },
     "metadata": {},
     "output_type": "display_data"
    },
    {
     "name": "stdout",
     "output_type": "stream",
     "text": [
      "/mnt2/yarn/usercache/livy/appcache/application_1725619841828_0002/container_1725619841828_0002_01_000001/pyspark.zip/pyspark/sql/pandas/functions.py:407: UserWarning: In Python 3.6+ and Spark 3.0+, it is preferred to specify type hints for pandas UDF instead of specifying pandas UDF type which will be deprecated in the future releases. See SPARK-28264 for more details."
     ]
    }
   ],
   "source": [
    "@pandas_udf('array<float>', PandasUDFType.SCALAR_ITER)\n",
    "def get_predicted_features_udf(content_series_iter):\n",
    "    '''\n",
    "    UDF function Scalar Iterator that wraps get_predicted_features\n",
    "    Returns a Spark DataFrame column of type array(float).\n",
    "\n",
    "    :param content_series_iter: iterator over batches of data, where each batch\n",
    "                              is a pandas Series of image data.\n",
    "    '''\n",
    "    # With Scalar Iterator pandas UDFs, we can load the model once and then re-use it\n",
    "    # for multiple data batches.  This amortizes the overhead of loading big models.\n",
    "\n",
    "    for content_series in content_series_iter:\n",
    "        yield get_predicted_features(model_cnn_truncated, content_series)"
   ]
  },
  {
   "cell_type": "markdown",
   "id": "f23206e8",
   "metadata": {},
   "source": [
    "### Récupération d'attributs\n",
    "- Traitement distribué de 24 lots d'images\n",
    "- récupère les résultats de l’ensemble de lots\n",
    "- le nombre d’attributs d’une image est 1280"
   ]
  },
  {
   "cell_type": "code",
   "execution_count": 402,
   "id": "5e07fd68",
   "metadata": {},
   "outputs": [
    {
     "data": {
      "application/vnd.jupyter.widget-view+json": {
       "model_id": "",
       "version_major": 2,
       "version_minor": 0
      },
      "text/plain": [
       "FloatProgress(value=0.0, bar_style='info', description='Progress:', layout=Layout(height='25px', width='50%'),…"
      ]
     },
     "metadata": {},
     "output_type": "display_data"
    },
    {
     "name": "stdout",
     "output_type": "stream",
     "text": [
      "Execution time =           00m 00s"
     ]
    }
   ],
   "source": [
    "start_time = get_start_time('get_cnn_features')\n",
    "sdf_features_cnn = sdf_images.repartition(24) \\\n",
    "                    .select(col('image_id'),\n",
    "                            col('class'),\n",
    "                            col('class_id'),\n",
    "                            get_predicted_features_udf('content').alias('features_cnn_array')\n",
    "                           )\n",
    "get_duration('get_cnn_features', start_time) "
   ]
  },
  {
   "cell_type": "code",
   "execution_count": 403,
   "id": "af44f0dd",
   "metadata": {},
   "outputs": [
    {
     "data": {
      "application/vnd.jupyter.widget-view+json": {
       "model_id": "",
       "version_major": 2,
       "version_minor": 0
      },
      "text/plain": [
       "FloatProgress(value=0.0, bar_style='info', description='Progress:', layout=Layout(height='25px', width='50%'),…"
      ]
     },
     "metadata": {},
     "output_type": "display_data"
    },
    {
     "name": "stdout",
     "output_type": "stream",
     "text": [
      "root\n",
      " |-- image_id: long (nullable = false)\n",
      " |-- class: string (nullable = true)\n",
      " |-- class_id: double (nullable = false)\n",
      " |-- features_cnn_array: array (nullable = true)\n",
      " |    |-- element: float (containsNull = true)"
     ]
    }
   ],
   "source": [
    "sdf_features_cnn.printSchema()"
   ]
  },
  {
   "cell_type": "markdown",
   "id": "b09e8fb6-3edd-40b7-929d-4b74f64377d6",
   "metadata": {},
   "source": [
    "## Vectorisation d'attributs\n",
    "- une conversion des tableaux Numpy en vecteurs est requise par PCA"
   ]
  },
  {
   "cell_type": "code",
   "execution_count": 404,
   "id": "b92931a5-4086-4473-9f2b-3ddb87120062",
   "metadata": {},
   "outputs": [
    {
     "data": {
      "application/vnd.jupyter.widget-view+json": {
       "model_id": "",
       "version_major": 2,
       "version_minor": 0
      },
      "text/plain": [
       "FloatProgress(value=0.0, bar_style='info', description='Progress:', layout=Layout(height='25px', width='50%'),…"
      ]
     },
     "metadata": {},
     "output_type": "display_data"
    }
   ],
   "source": [
    "from pyspark.ml.linalg import Vectors, VectorUDT\n",
    "from pyspark.ml.functions import array_to_vector"
   ]
  },
  {
   "cell_type": "markdown",
   "id": "f992b6e1-80ef-4eaf-8f17-8c3879a96863",
   "metadata": {},
   "source": [
    "Le champ _features_ contient le tableau et _features_vector_ le vecteur"
   ]
  },
  {
   "cell_type": "code",
   "execution_count": 405,
   "id": "07571b1a-c5fa-4233-8242-beb3dea89668",
   "metadata": {
    "scrolled": true
   },
   "outputs": [
    {
     "data": {
      "application/vnd.jupyter.widget-view+json": {
       "model_id": "",
       "version_major": 2,
       "version_minor": 0
      },
      "text/plain": [
       "FloatProgress(value=0.0, bar_style='info', description='Progress:', layout=Layout(height='25px', width='50%'),…"
      ]
     },
     "metadata": {},
     "output_type": "display_data"
    }
   ],
   "source": [
    "sdf_features_vector = sdf_features_cnn.withColumn('features_cnn_vector', array_to_vector('features_cnn_array'))"
   ]
  },
  {
   "cell_type": "code",
   "execution_count": 406,
   "id": "0285f47d-f421-4145-86a3-a39c3176cc1a",
   "metadata": {
    "scrolled": true
   },
   "outputs": [
    {
     "data": {
      "application/vnd.jupyter.widget-view+json": {
       "model_id": "",
       "version_major": 2,
       "version_minor": 0
      },
      "text/plain": [
       "FloatProgress(value=0.0, bar_style='info', description='Progress:', layout=Layout(height='25px', width='50%'),…"
      ]
     },
     "metadata": {},
     "output_type": "display_data"
    }
   ],
   "source": [
    "sdf_features_vector = sdf_features_vector.drop('features_cnn_array')"
   ]
  },
  {
   "cell_type": "code",
   "execution_count": 407,
   "id": "c6e79ef1-9f3a-4ce7-b6bb-6b05a14096f6",
   "metadata": {},
   "outputs": [
    {
     "data": {
      "application/vnd.jupyter.widget-view+json": {
       "model_id": "",
       "version_major": 2,
       "version_minor": 0
      },
      "text/plain": [
       "FloatProgress(value=0.0, bar_style='info', description='Progress:', layout=Layout(height='25px', width='50%'),…"
      ]
     },
     "metadata": {},
     "output_type": "display_data"
    },
    {
     "name": "stdout",
     "output_type": "stream",
     "text": [
      "root\n",
      " |-- image_id: long (nullable = false)\n",
      " |-- class: string (nullable = true)\n",
      " |-- class_id: double (nullable = false)\n",
      " |-- features_cnn_vector: vector (nullable = true)"
     ]
    }
   ],
   "source": [
    "sdf_features_vector.printSchema()"
   ]
  },
  {
   "cell_type": "markdown",
   "id": "2b6780ac-daba-4a6d-993b-ec32e84c6668",
   "metadata": {},
   "source": [
    "## Partition du jeu de données\n",
    "Le jeux de données est divisé en jeu d’entraînement et de test"
   ]
  },
  {
   "cell_type": "code",
   "execution_count": 408,
   "id": "08935a5a-5848-4125-88fa-b81395f9422b",
   "metadata": {},
   "outputs": [
    {
     "data": {
      "application/vnd.jupyter.widget-view+json": {
       "model_id": "",
       "version_major": 2,
       "version_minor": 0
      },
      "text/plain": [
       "FloatProgress(value=0.0, bar_style='info', description='Progress:', layout=Layout(height='25px', width='50%'),…"
      ]
     },
     "metadata": {},
     "output_type": "display_data"
    }
   ],
   "source": [
    "sdf_train, sdf_test = sdf_features_vector.randomSplit([0.8, 0.2], seed=0)"
   ]
  },
  {
   "cell_type": "markdown",
   "id": "0e1df57c-9e89-4a82-8975-03328ca0ca83",
   "metadata": {},
   "source": [
    "On choisit un calcul approximatif du nombre d'images au lieu du réel qui est beaucoup plus long"
   ]
  },
  {
   "cell_type": "code",
   "execution_count": 409,
   "id": "44e00b52",
   "metadata": {},
   "outputs": [
    {
     "data": {
      "application/vnd.jupyter.widget-view+json": {
       "model_id": "",
       "version_major": 2,
       "version_minor": 0
      },
      "text/plain": [
       "FloatProgress(value=0.0, bar_style='info', description='Progress:', layout=Layout(height='25px', width='50%'),…"
      ]
     },
     "metadata": {},
     "output_type": "display_data"
    },
    {
     "name": "stdout",
     "output_type": "stream",
     "text": [
      "sdf_train approximative size : 8649\n",
      "sdf_test  approximative size : 2162"
     ]
    }
   ],
   "source": [
    "print('sdf_train approximative size :', int(nb_images*.8))\n",
    "print('sdf_test  approximative size :', int(nb_images*.2))"
   ]
  },
  {
   "cell_type": "code",
   "execution_count": 410,
   "id": "f252eef8",
   "metadata": {},
   "outputs": [
    {
     "data": {
      "application/vnd.jupyter.widget-view+json": {
       "model_id": "",
       "version_major": 2,
       "version_minor": 0
      },
      "text/plain": [
       "FloatProgress(value=0.0, bar_style='info', description='Progress:', layout=Layout(height='25px', width='50%'),…"
      ]
     },
     "metadata": {},
     "output_type": "display_data"
    },
    {
     "name": "stdout",
     "output_type": "stream",
     "text": [
      "root\n",
      " |-- image_id: long (nullable = false)\n",
      " |-- class: string (nullable = true)\n",
      " |-- class_id: double (nullable = false)\n",
      " |-- features_cnn_vector: vector (nullable = true)"
     ]
    }
   ],
   "source": [
    "sdf_train.printSchema()"
   ]
  },
  {
   "cell_type": "markdown",
   "id": "4bd9f830-2d12-49ec-ae9a-c5a4df17f30c",
   "metadata": {},
   "source": [
    "## _Pipeline_"
   ]
  },
  {
   "cell_type": "markdown",
   "id": "86d70853-0c7a-4d21-b3fa-feb233f4b0f0",
   "metadata": {},
   "source": [
    "On regroupe les fonctionnalités suivantes dans une _pipeline_\n",
    "- Normalisation des attributs par StandardScaler()\n",
    "- Réduction du nombre d’attributs\n",
    "- Classification par régression logistique\n",
    "- le détail des étapes est décrit en [Annexe](#Annexe)"
   ]
  },
  {
   "cell_type": "markdown",
   "id": "90acb59b-25d2-4cec-9b02-ed79d09365af",
   "metadata": {},
   "source": [
    "Ces fonctions sont prises du module pyspark.ml pour un traitement distribué"
   ]
  },
  {
   "cell_type": "code",
   "execution_count": 411,
   "id": "b2baf590-50bc-45db-9488-d2d0c59bdc99",
   "metadata": {},
   "outputs": [
    {
     "data": {
      "application/vnd.jupyter.widget-view+json": {
       "model_id": "",
       "version_major": 2,
       "version_minor": 0
      },
      "text/plain": [
       "FloatProgress(value=0.0, bar_style='info', description='Progress:', layout=Layout(height='25px', width='50%'),…"
      ]
     },
     "metadata": {},
     "output_type": "display_data"
    }
   ],
   "source": [
    "from pyspark.ml                import Pipeline\n",
    "from pyspark.ml.feature        import PCA, StandardScaler # (mean=0, std=1)\n",
    "from pyspark.ml.classification import LogisticRegression"
   ]
  },
  {
   "cell_type": "code",
   "execution_count": 412,
   "id": "35809abd-9f5b-4b7c-94d9-58007bedf0b8",
   "metadata": {},
   "outputs": [
    {
     "data": {
      "application/vnd.jupyter.widget-view+json": {
       "model_id": "",
       "version_major": 2,
       "version_minor": 0
      },
      "text/plain": [
       "FloatProgress(value=0.0, bar_style='info', description='Progress:', layout=Layout(height='25px', width='50%'),…"
      ]
     },
     "metadata": {},
     "output_type": "display_data"
    }
   ],
   "source": [
    "nb_features_pca = 10"
   ]
  },
  {
   "cell_type": "markdown",
   "id": "d2c4d493-73de-4c58-b26b-f929264dfd3b",
   "metadata": {},
   "source": [
    "### Etapes"
   ]
  },
  {
   "cell_type": "code",
   "execution_count": 413,
   "id": "b5a68555-9664-4163-a6f8-6d7b4f2e6394",
   "metadata": {},
   "outputs": [
    {
     "data": {
      "application/vnd.jupyter.widget-view+json": {
       "model_id": "",
       "version_major": 2,
       "version_minor": 0
      },
      "text/plain": [
       "FloatProgress(value=0.0, bar_style='info', description='Progress:', layout=Layout(height='25px', width='50%'),…"
      ]
     },
     "metadata": {},
     "output_type": "display_data"
    }
   ],
   "source": [
    "scaler = StandardScaler(        inputCol='features_cnn_vector',    outputCol='features_scaled_vector')\n",
    "pca    = PCA(k=nb_features_pca, inputCol='features_scaled_vector', outputCol='features_pca')\n",
    "lr     = LogisticRegression( featuresCol='features_scaled_vector',  labelCol='class_id')"
   ]
  },
  {
   "cell_type": "code",
   "execution_count": 414,
   "id": "e8a3bb24-54a5-42d3-8bce-92f215c7839e",
   "metadata": {},
   "outputs": [
    {
     "data": {
      "application/vnd.jupyter.widget-view+json": {
       "model_id": "",
       "version_major": 2,
       "version_minor": 0
      },
      "text/plain": [
       "FloatProgress(value=0.0, bar_style='info', description='Progress:', layout=Layout(height='25px', width='50%'),…"
      ]
     },
     "metadata": {},
     "output_type": "display_data"
    }
   ],
   "source": [
    "model_pipeline = Pipeline(stages=[scaler, pca, lr])"
   ]
  },
  {
   "cell_type": "markdown",
   "id": "b519ed5c-54cf-41ac-a4b5-0c4e8d183be1",
   "metadata": {},
   "source": [
    "### Entraînement"
   ]
  },
  {
   "cell_type": "code",
   "execution_count": 415,
   "id": "af4df1f5-58fd-489b-956e-5aa254fac873",
   "metadata": {
    "scrolled": true
   },
   "outputs": [
    {
     "data": {
      "application/vnd.jupyter.widget-view+json": {
       "model_id": "",
       "version_major": 2,
       "version_minor": 0
      },
      "text/plain": [
       "FloatProgress(value=0.0, bar_style='info', description='Progress:', layout=Layout(height='25px', width='50%'),…"
      ]
     },
     "metadata": {},
     "output_type": "display_data"
    },
    {
     "name": "stdout",
     "output_type": "stream",
     "text": [
      "Execution time =           07m 38s"
     ]
    }
   ],
   "source": [
    "start_time = get_start_time('train_model')\n",
    "model_pipeline = model_pipeline.fit(sdf_train)  # Fit pipeline to data\n",
    "get_duration('train_model', start_time) "
   ]
  },
  {
   "cell_type": "markdown",
   "id": "7bac1b2a-b8b7-450e-aacd-f132d7105005",
   "metadata": {},
   "source": [
    "### Prédictions"
   ]
  },
  {
   "cell_type": "code",
   "execution_count": 416,
   "id": "07e68071-239e-4e59-bb49-247098a44b98",
   "metadata": {},
   "outputs": [
    {
     "data": {
      "application/vnd.jupyter.widget-view+json": {
       "model_id": "",
       "version_major": 2,
       "version_minor": 0
      },
      "text/plain": [
       "FloatProgress(value=0.0, bar_style='info', description='Progress:', layout=Layout(height='25px', width='50%'),…"
      ]
     },
     "metadata": {},
     "output_type": "display_data"
    },
    {
     "name": "stdout",
     "output_type": "stream",
     "text": [
      "root\n",
      " |-- image_id: long (nullable = false)\n",
      " |-- class: string (nullable = true)\n",
      " |-- class_id: double (nullable = false)\n",
      " |-- features_cnn_vector: vector (nullable = true)\n",
      " |-- features_scaled_vector: vector (nullable = true)\n",
      " |-- features_pca: vector (nullable = true)\n",
      " |-- rawPrediction: vector (nullable = true)\n",
      " |-- probability: vector (nullable = true)\n",
      " |-- prediction: double (nullable = false)"
     ]
    }
   ],
   "source": [
    "sdf_train_pred = model_pipeline.transform(sdf_train)\n",
    "sdf_train_pred.printSchema()"
   ]
  },
  {
   "cell_type": "code",
   "execution_count": 417,
   "id": "5116456d-a17b-41ff-bb9d-85e0a3f68e6b",
   "metadata": {},
   "outputs": [
    {
     "data": {
      "application/vnd.jupyter.widget-view+json": {
       "model_id": "",
       "version_major": 2,
       "version_minor": 0
      },
      "text/plain": [
       "FloatProgress(value=0.0, bar_style='info', description='Progress:', layout=Layout(height='25px', width='50%'),…"
      ]
     },
     "metadata": {},
     "output_type": "display_data"
    }
   ],
   "source": [
    "sdf_test_pred  = model_pipeline.transform(sdf_test)"
   ]
  },
  {
   "cell_type": "markdown",
   "id": "cceb57df-6cb5-4b98-be6a-3c47dddd3c00",
   "metadata": {},
   "source": [
    "# Sauvegarde des attributs issus de PCA"
   ]
  },
  {
   "cell_type": "markdown",
   "id": "ef401f2d-a6dd-40f5-b066-dc7c63bca88d",
   "metadata": {},
   "source": [
    "La sauvegarde u format CSV requiert \n",
    "- une ligne d'entêtes\n",
    "- les vecteurs de 10 attributs issus du PCA convertis en 10 colonnes"
   ]
  },
  {
   "cell_type": "markdown",
   "id": "c8580915-804f-4461-a8bd-d596579e1428",
   "metadata": {},
   "source": [
    "## Répertoires de travail et de sauvegarde pérenne"
   ]
  },
  {
   "cell_type": "code",
   "execution_count": 418,
   "id": "766bb29d",
   "metadata": {},
   "outputs": [
    {
     "data": {
      "application/vnd.jupyter.widget-view+json": {
       "model_id": "",
       "version_major": 2,
       "version_minor": 0
      },
      "text/plain": [
       "FloatProgress(value=0.0, bar_style='info', description='Progress:', layout=Layout(height='25px', width='50%'),…"
      ]
     },
     "metadata": {},
     "output_type": "display_data"
    }
   ],
   "source": [
    "path_livy_result  = 'file:///tmp/results/'\n",
    "path_local_result = '/tmp/results/'"
   ]
  },
  {
   "cell_type": "code",
   "execution_count": 419,
   "id": "804bd2db-dea4-429b-ba88-eebd9d43c3f6",
   "metadata": {},
   "outputs": [
    {
     "data": {
      "application/vnd.jupyter.widget-view+json": {
       "model_id": "",
       "version_major": 2,
       "version_minor": 0
      },
      "text/plain": [
       "FloatProgress(value=0.0, bar_style='info', description='Progress:', layout=Layout(height='25px', width='50%'),…"
      ]
     },
     "metadata": {},
     "output_type": "display_data"
    },
    {
     "name": "stdout",
     "output_type": "stream",
     "text": [
      "s3://jv-s3/output/"
     ]
    }
   ],
   "source": [
    "print(path_s3_output)"
   ]
  },
  {
   "cell_type": "markdown",
   "id": "ff0e4de2-8eb9-494a-aa46-892d0d85a438",
   "metadata": {},
   "source": [
    "## Contenu du DataFrame"
   ]
  },
  {
   "cell_type": "code",
   "execution_count": 420,
   "id": "7dc44f47-d18a-4025-8bfc-b5582f0d235b",
   "metadata": {},
   "outputs": [
    {
     "data": {
      "application/vnd.jupyter.widget-view+json": {
       "model_id": "",
       "version_major": 2,
       "version_minor": 0
      },
      "text/plain": [
       "FloatProgress(value=0.0, bar_style='info', description='Progress:', layout=Layout(height='25px', width='50%'),…"
      ]
     },
     "metadata": {},
     "output_type": "display_data"
    },
    {
     "name": "stdout",
     "output_type": "stream",
     "text": [
      "root\n",
      " |-- features_pca: vector (nullable = true)"
     ]
    }
   ],
   "source": [
    "sdf_train_pred.select(\"features_pca\").printSchema()"
   ]
  },
  {
   "cell_type": "code",
   "execution_count": 421,
   "id": "684cf045-b498-4570-9612-b5fa6717308b",
   "metadata": {},
   "outputs": [
    {
     "data": {
      "application/vnd.jupyter.widget-view+json": {
       "model_id": "",
       "version_major": 2,
       "version_minor": 0
      },
      "text/plain": [
       "FloatProgress(value=0.0, bar_style='info', description='Progress:', layout=Layout(height='25px', width='50%'),…"
      ]
     },
     "metadata": {},
     "output_type": "display_data"
    },
    {
     "name": "stdout",
     "output_type": "stream",
     "text": [
      "root\n",
      " |-- features_pca: vector (nullable = true)"
     ]
    }
   ],
   "source": [
    "sdf_test_pred.select(\"features_pca\").printSchema()"
   ]
  },
  {
   "cell_type": "markdown",
   "id": "7039e0b2-dde9-4a9b-881a-e175a324268a",
   "metadata": {},
   "source": [
    "## Conversion des vecteurs en colonnes"
   ]
  },
  {
   "cell_type": "code",
   "execution_count": 422,
   "id": "3c8a448c-e86c-42f1-8a78-c19cf60810c3",
   "metadata": {
    "scrolled": true,
    "tags": []
   },
   "outputs": [
    {
     "data": {
      "application/vnd.jupyter.widget-view+json": {
       "model_id": "",
       "version_major": 2,
       "version_minor": 0
      },
      "text/plain": [
       "FloatProgress(value=0.0, bar_style='info', description='Progress:', layout=Layout(height='25px', width='50%'),…"
      ]
     },
     "metadata": {},
     "output_type": "display_data"
    }
   ],
   "source": [
    "from pyspark.ml.linalg import DenseVector\n",
    "from pyspark.sql.functions import udf\n",
    "from pyspark.sql.types import ArrayType, DoubleType\n",
    "\n",
    "# Convert the vector to an array (list)\n",
    "udf_vector_to_array = udf(lambda v: v.toArray().tolist() if isinstance(v, DenseVector) else v, ArrayType(DoubleType()))\n",
    "\n",
    "# Apply the UDF to convert vector to array\n",
    "sdf_train_array = sdf_train_pred.withColumn(\"features_pca\", udf_vector_to_array(col(\"features_pca\")))\n",
    "sdf_test_array  = sdf_test_pred .withColumn(\"features_pca\", udf_vector_to_array(col(\"features_pca\")))\n",
    "sdf_features_array = sdf_train_array.union(sdf_test_array)\n",
    "\n",
    "# Flatten the array into multiple columns\n",
    "sdf_features_cols = sdf_features_array.select([\"image_id\"] + [col(\"features_pca\")[i].alias(f\"pca_feature_{i+1}\") for i in range(nb_features_pca)])"
   ]
  },
  {
   "cell_type": "markdown",
   "id": "e18a5444-009d-4a54-9b47-7e017151c233",
   "metadata": {},
   "source": [
    "## Génération du CSV\n",
    "- un fichier temporaire local avec les attributs PCA est généré par partition\n",
    "- le fichier CSV résulte de la concatenation des fichiers temporaires\n",
    "- ce CSV est copie vers S3"
   ]
  },
  {
   "cell_type": "markdown",
   "id": "bfb042df",
   "metadata": {},
   "source": [
    "Génération de fichiers temporaires localement sur le cluster"
   ]
  },
  {
   "cell_type": "code",
   "execution_count": 456,
   "id": "76ebd863-912b-41c1-a6a6-07dd2baf29a0",
   "metadata": {
    "scrolled": true
   },
   "outputs": [
    {
     "data": {
      "application/vnd.jupyter.widget-view+json": {
       "model_id": "",
       "version_major": 2,
       "version_minor": 0
      },
      "text/plain": [
       "FloatProgress(value=0.0, bar_style='info', description='Progress:', layout=Layout(height='25px', width='50%'),…"
      ]
     },
     "metadata": {},
     "output_type": "display_data"
    },
    {
     "name": "stdout",
     "output_type": "stream",
     "text": [
      "Execution time =           02m 47s"
     ]
    }
   ],
   "source": [
    "start_time = get_start_time('save_pca_features')    \n",
    "sdf_features_cols.write.mode('overwrite').csv(path_livy_result)\n",
    "get_duration('save_pca_features', start_time) "
   ]
  },
  {
   "cell_type": "markdown",
   "id": "ff89e738",
   "metadata": {},
   "source": [
    "Création du fichier CSV de résultats"
   ]
  },
  {
   "cell_type": "code",
   "execution_count": 458,
   "id": "372b78fc-4190-489e-9f2f-144c78487663",
   "metadata": {
    "scrolled": true
   },
   "outputs": [
    {
     "data": {
      "application/vnd.jupyter.widget-view+json": {
       "model_id": "",
       "version_major": 2,
       "version_minor": 0
      },
      "text/plain": [
       "FloatProgress(value=0.0, bar_style='info', description='Progress:', layout=Layout(height='25px', width='50%'),…"
      ]
     },
     "metadata": {},
     "output_type": "display_data"
    }
   ],
   "source": [
    "li_fields = sdf_features_cols.columns\n",
    "str_li_fields = ','.join(li_fields)\n",
    "temp_files_mask = path_local_result + 'part-*.csv'\n",
    "coalesced_file  = path_local_result + cluster_name + '_results_' + timestamp + '.csv'   "
   ]
  },
  {
   "cell_type": "code",
   "execution_count": 459,
   "id": "f6fb2703-f750-458f-8402-52565b33d3f3",
   "metadata": {},
   "outputs": [
    {
     "data": {
      "application/vnd.jupyter.widget-view+json": {
       "model_id": "",
       "version_major": 2,
       "version_minor": 0
      },
      "text/plain": [
       "FloatProgress(value=0.0, bar_style='info', description='Progress:', layout=Layout(height='25px', width='50%'),…"
      ]
     },
     "metadata": {},
     "output_type": "display_data"
    },
    {
     "name": "stdout",
     "output_type": "stream",
     "text": [
      "Command = echo image_id,pca_feature_1,pca_feature_2,pca_feature_3,pca_feature_4,pca_feature_5,pca_feature_6,pca_feature_7,pca_feature_8,pca_feature_9,pca_feature_10 > /tmp/results/emr-1core-2task_results_20240906_1223.csv\n",
      "OK, success"
     ]
    }
   ],
   "source": [
    "str_command = f'echo {str_li_fields} > {coalesced_file}' \n",
    "ret = run_cmd(str_command)"
   ]
  },
  {
   "cell_type": "code",
   "execution_count": 470,
   "id": "653c5427-636d-4b7d-aece-e6dc5afa67f5",
   "metadata": {},
   "outputs": [
    {
     "data": {
      "application/vnd.jupyter.widget-view+json": {
       "model_id": "",
       "version_major": 2,
       "version_minor": 0
      },
      "text/plain": [
       "FloatProgress(value=0.0, bar_style='info', description='Progress:', layout=Layout(height='25px', width='50%'),…"
      ]
     },
     "metadata": {},
     "output_type": "display_data"
    },
    {
     "name": "stdout",
     "output_type": "stream",
     "text": [
      "Command = cat /tmp/results/part-*.csv >> /tmp/results/emr-1core-2task_results_20240906_1223.csv ; if [ $? -eq 0 ]; then rm -rf /tmp/results/part-*.csv ; fi\n",
      "OK, success"
     ]
    }
   ],
   "source": [
    "if ret == 'OK' :\n",
    "    str_command = f'cat {temp_files_mask} >> {coalesced_file} ; if [ $? -eq 0 ]; then rm -rf {temp_files_mask} ; fi' \n",
    "    ret = run_cmd(str_command)"
   ]
  },
  {
   "cell_type": "code",
   "execution_count": 473,
   "id": "71378fbb-dc2b-4a2a-99ac-14ad5140adb5",
   "metadata": {},
   "outputs": [
    {
     "data": {
      "application/vnd.jupyter.widget-view+json": {
       "model_id": "",
       "version_major": 2,
       "version_minor": 0
      },
      "text/plain": [
       "FloatProgress(value=0.0, bar_style='info', description='Progress:', layout=Layout(height='25px', width='50%'),…"
      ]
     },
     "metadata": {},
     "output_type": "display_data"
    },
    {
     "name": "stdout",
     "output_type": "stream",
     "text": [
      "Command = wc -l /tmp/results/emr-1core-2task_results_20240906_1223.csv\n",
      "OK, success\n",
      " 3402 /tmp/results/emr-1core-2task_results_20240906_1223.csv"
     ]
    }
   ],
   "source": [
    "if ret == 'OK' :\n",
    "    str_command = f'wc -l {coalesced_file}' \n",
    "    ret = run_cmd(str_command)"
   ]
  },
  {
   "cell_type": "code",
   "execution_count": 474,
   "id": "d1d0cfa3-6e9b-4509-ba32-3616857939bb",
   "metadata": {},
   "outputs": [
    {
     "data": {
      "application/vnd.jupyter.widget-view+json": {
       "model_id": "",
       "version_major": 2,
       "version_minor": 0
      },
      "text/plain": [
       "FloatProgress(value=0.0, bar_style='info', description='Progress:', layout=Layout(height='25px', width='50%'),…"
      ]
     },
     "metadata": {},
     "output_type": "display_data"
    },
    {
     "name": "stdout",
     "output_type": "stream",
     "text": [
      "Command = aws s3 cp /tmp/results/emr-1core-2task_results_20240906_1223.csv s3://jv-s3/output/\n",
      "OK, success\n",
      " Completed 256.0 KiB/675.1 KiB (4.5 MiB/s) with 1 file(s) remaining\r",
      "Completed 512.0 KiB/675.1 KiB (8.7 MiB/s) with 1 file(s) remaining\r",
      "Completed 675.1 KiB/675.1 KiB (5.2 MiB/s) with 1 file(s) remaining\r",
      "upload: ../../../../../../../tmp/results/emr-1core-2task_results_20240906_1223.csv to s3://jv-s3/output/emr-1core-2task_results_20240906_1223.csv\n",
      "\n",
      "'OK'"
     ]
    }
   ],
   "source": [
    "if ret == 'OK' :\n",
    "    str_command = f'aws s3 cp {coalesced_file} {path_s3_output}'\n",
    "    run_cmd(str_command)"
   ]
  },
  {
   "cell_type": "markdown",
   "id": "d01d27a3",
   "metadata": {},
   "source": [
    "# Evaluation"
   ]
  },
  {
   "cell_type": "code",
   "execution_count": 429,
   "id": "482cdf03",
   "metadata": {
    "tags": []
   },
   "outputs": [
    {
     "data": {
      "application/vnd.jupyter.widget-view+json": {
       "model_id": "",
       "version_major": 2,
       "version_minor": 0
      },
      "text/plain": [
       "FloatProgress(value=0.0, bar_style='info', description='Progress:', layout=Layout(height='25px', width='50%'),…"
      ]
     },
     "metadata": {},
     "output_type": "display_data"
    }
   ],
   "source": [
    "from pyspark.ml.evaluation import MulticlassClassificationEvaluator"
   ]
  },
  {
   "cell_type": "code",
   "execution_count": 430,
   "id": "950a7ff9",
   "metadata": {
    "scrolled": true
   },
   "outputs": [
    {
     "data": {
      "application/vnd.jupyter.widget-view+json": {
       "model_id": "",
       "version_major": 2,
       "version_minor": 0
      },
      "text/plain": [
       "FloatProgress(value=0.0, bar_style='info', description='Progress:', layout=Layout(height='25px', width='50%'),…"
      ]
     },
     "metadata": {},
     "output_type": "display_data"
    },
    {
     "name": "stdout",
     "output_type": "stream",
     "text": [
      "accuracy: 1.0\n",
      "recallByLabel: 1.0\n",
      "Execution time =           03m 35s"
     ]
    }
   ],
   "source": [
    "start_time = get_start_time('get_metrics')\n",
    "for str_metric in ['accuracy', 'recallByLabel'] :\n",
    "    evaluator_metric = MulticlassClassificationEvaluator(\n",
    "        labelCol='class_id', predictionCol='prediction', metricName=str_metric )\n",
    "    float_metric = np.round(evaluator_metric.evaluate(sdf_test_pred), 3)\n",
    "    print(f'{str_metric}: {float_metric}')\n",
    "get_duration('get_metrics', start_time)"
   ]
  },
  {
   "cell_type": "markdown",
   "id": "28bcc2a2-1bd7-403b-8c06-c46e2511b526",
   "metadata": {},
   "source": [
    "# Sauvegarde de rapports Spark UI"
   ]
  },
  {
   "cell_type": "markdown",
   "id": "bcb2915c",
   "metadata": {},
   "source": [
    "Récupération d'URL "
   ]
  },
  {
   "cell_type": "code",
   "execution_count": 431,
   "id": "29a60597-3b67-4f77-953f-1f9631181042",
   "metadata": {},
   "outputs": [
    {
     "data": {
      "application/vnd.jupyter.widget-view+json": {
       "model_id": "",
       "version_major": 2,
       "version_minor": 0
      },
      "text/plain": [
       "FloatProgress(value=0.0, bar_style='info', description='Progress:', layout=Layout(height='25px', width='50%'),…"
      ]
     },
     "metadata": {},
     "output_type": "display_data"
    },
    {
     "name": "stdout",
     "output_type": "stream",
     "text": [
      "url_spark_ui =  http://ip-172-31-93-96.ec2.internal:34171"
     ]
    }
   ],
   "source": [
    "url_spark_ui = sc.uiWebUrl\n",
    "print('url_spark_ui = ', url_spark_ui)"
   ]
  },
  {
   "cell_type": "markdown",
   "id": "5760ea2f",
   "metadata": {},
   "source": [
    "Téléchargement des pages HTML de Spark UI"
   ]
  },
  {
   "cell_type": "code",
   "execution_count": 432,
   "id": "309c1ca5",
   "metadata": {},
   "outputs": [
    {
     "data": {
      "application/vnd.jupyter.widget-view+json": {
       "model_id": "",
       "version_major": 2,
       "version_minor": 0
      },
      "text/plain": [
       "FloatProgress(value=0.0, bar_style='info', description='Progress:', layout=Layout(height='25px', width='50%'),…"
      ]
     },
     "metadata": {},
     "output_type": "display_data"
    }
   ],
   "source": [
    "li_reports = 'jobs stages environment executors SQL'\n",
    "report_local_dir = path_output + 'reports/'"
   ]
  },
  {
   "cell_type": "raw",
   "id": "018b5836",
   "metadata": {},
   "source": [
    "ret = run_cmd(f' mkdir -p {report_local_dir}')"
   ]
  },
  {
   "cell_type": "code",
   "execution_count": 433,
   "id": "2ae7d48c",
   "metadata": {},
   "outputs": [
    {
     "data": {
      "application/vnd.jupyter.widget-view+json": {
       "model_id": "",
       "version_major": 2,
       "version_minor": 0
      },
      "text/plain": [
       "FloatProgress(value=0.0, bar_style='info', description='Progress:', layout=Layout(height='25px', width='50%'),…"
      ]
     },
     "metadata": {},
     "output_type": "display_data"
    },
    {
     "name": "stdout",
     "output_type": "stream",
     "text": [
      "Command = for report in jobs stages environment executors SQL ; do wget --quiet --page-requisites --convert-links --no-parent --directory-prefix=./output/reports/     --no-host-directories http://ip-172-31-93-96.ec2.internal:34171/$report/ ; done\n",
      "OK, success"
     ]
    }
   ],
   "source": [
    "str_command = f'for report in {li_reports} ; do wget --quiet --page-requisites --convert-links --no-parent --directory-prefix={report_local_dir} \\\n",
    "    --no-host-directories {url_spark_ui}/$report/ ; done'\n",
    "ret = run_cmd(str_command)"
   ]
  },
  {
   "cell_type": "code",
   "execution_count": 434,
   "id": "d4361573",
   "metadata": {
    "scrolled": true
   },
   "outputs": [
    {
     "data": {
      "application/vnd.jupyter.widget-view+json": {
       "model_id": "",
       "version_major": 2,
       "version_minor": 0
      },
      "text/plain": [
       "FloatProgress(value=0.0, bar_style='info', description='Progress:', layout=Layout(height='25px', width='50%'),…"
      ]
     },
     "metadata": {},
     "output_type": "display_data"
    },
    {
     "name": "stdout",
     "output_type": "stream",
     "text": [
      "Command = ls ./output/reports/*/index.html\n",
      "OK, success\n",
      " ./output/reports/SQL/index.html\n",
      "./output/reports/environment/index.html\n",
      "./output/reports/executors/index.html\n",
      "./output/reports/jobs/index.html\n",
      "./output/reports/stages/index.html"
     ]
    }
   ],
   "source": [
    "if ret == 'OK' :\n",
    "    str_command = f'ls {report_local_dir}*/index.html' \n",
    "    ret = run_cmd(str_command)"
   ]
  },
  {
   "cell_type": "markdown",
   "id": "18dd3898-d41e-4c7b-ae68-a94cb03e663a",
   "metadata": {},
   "source": [
    "Les rapports Spark UI sont archivés dans un fichier ZIP"
   ]
  },
  {
   "cell_type": "code",
   "execution_count": 435,
   "id": "c4e16d55-6b0e-4807-84da-9bf90ad836cb",
   "metadata": {
    "scrolled": true
   },
   "outputs": [
    {
     "data": {
      "application/vnd.jupyter.widget-view+json": {
       "model_id": "",
       "version_major": 2,
       "version_minor": 0
      },
      "text/plain": [
       "FloatProgress(value=0.0, bar_style='info', description='Progress:', layout=Layout(height='25px', width='50%'),…"
      ]
     },
     "metadata": {},
     "output_type": "display_data"
    },
    {
     "name": "stdout",
     "output_type": "stream",
     "text": [
      "Command = tar -czvf ./output/emr-1core-2task_reports_20240906_1223.tar.gz -C ./output/reports/ . \n",
      "OK, success\n",
      " ./\n",
      "./jobs/\n",
      "./jobs/index.html\n",
      "./stages/\n",
      "./stages/index.html\n",
      "./environment/\n",
      "./environment/index.html\n",
      "./executors/\n",
      "./executors/index.html\n",
      "./SQL/\n",
      "./SQL/index.html"
     ]
    }
   ],
   "source": [
    "file_zipped = path_output + cluster_name + '_reports_' + timestamp + '.tar.gz'\n",
    "if ret == 'OK' :\n",
    "    str_command = f'tar -czvf {file_zipped} -C {report_local_dir} . '\n",
    "    ret = run_cmd(str_command)"
   ]
  },
  {
   "cell_type": "code",
   "execution_count": 436,
   "id": "f76c4dea-40ad-4ce6-900c-4b76114f12f9",
   "metadata": {},
   "outputs": [
    {
     "data": {
      "application/vnd.jupyter.widget-view+json": {
       "model_id": "",
       "version_major": 2,
       "version_minor": 0
      },
      "text/plain": [
       "FloatProgress(value=0.0, bar_style='info', description='Progress:', layout=Layout(height='25px', width='50%'),…"
      ]
     },
     "metadata": {},
     "output_type": "display_data"
    },
    {
     "name": "stdout",
     "output_type": "stream",
     "text": [
      "Command = aws s3 cp ./output/emr-1core-2task_reports_20240906_1223.tar.gz s3://jv-s3/output/\n",
      "OK, success\n",
      " Completed 55.1 KiB/55.1 KiB (413.3 KiB/s) with 1 file(s) remaining\r",
      "upload: output/emr-1core-2task_reports_20240906_1223.tar.gz to s3://jv-s3/output/emr-1core-2task_reports_20240906_1223.tar.gz\n",
      "\n",
      "'OK'"
     ]
    }
   ],
   "source": [
    "if ret == 'OK' :\n",
    "    run_cmd(f'aws s3 cp {file_zipped} {path_s3_output}')"
   ]
  },
  {
   "cell_type": "markdown",
   "id": "7fece73b",
   "metadata": {
    "tags": []
   },
   "source": [
    "<div style='background-color: green; text-align: center'>."
   ]
  },
  {
   "cell_type": "markdown",
   "id": "7c560058-a6bc-4ba0-89f8-55d527ad954d",
   "metadata": {},
   "source": [
    "# Fin du traitement"
   ]
  },
  {
   "cell_type": "markdown",
   "id": "c32abc45-5337-4352-b7e4-11db6d9dcb20",
   "metadata": {},
   "source": [
    "## Evaluation de durée de traitement"
   ]
  },
  {
   "cell_type": "markdown",
   "id": "38a10743",
   "metadata": {},
   "source": [
    "### Durée globale"
   ]
  },
  {
   "cell_type": "code",
   "execution_count": 437,
   "id": "b12a3844-c2f8-4e71-b44b-1b1a632477ae",
   "metadata": {},
   "outputs": [
    {
     "data": {
      "application/vnd.jupyter.widget-view+json": {
       "model_id": "",
       "version_major": 2,
       "version_minor": 0
      },
      "text/plain": [
       "FloatProgress(value=0.0, bar_style='info', description='Progress:', layout=Layout(height='25px', width='50%'),…"
      ]
     },
     "metadata": {},
     "output_type": "display_data"
    },
    {
     "name": "stdout",
     "output_type": "stream",
     "text": [
      "Duration of execution of all cells =          14m 36s"
     ]
    }
   ],
   "source": [
    "print('Duration of execution of all cells =', get_HHMMSS(get_time() - global_start_time))"
   ]
  },
  {
   "cell_type": "markdown",
   "id": "a78d5cf6",
   "metadata": {},
   "source": [
    "### Durée des principales opérations"
   ]
  },
  {
   "cell_type": "markdown",
   "id": "1c38969b",
   "metadata": {},
   "source": [
    "#### Ajout du nombre d'images à df_duration"
   ]
  },
  {
   "cell_type": "markdown",
   "id": "a359c0d8",
   "metadata": {},
   "source": [
    "Normalement on traite un nombre unique d'images. Mais on peut fait varier ce nombre :\n",
    "\n",
    "    - pour l'extrapolation de la durée en fonction du nombre d'images \n",
    "    - on exécutera le traitement depuis la section \"Chargement des fichiers image\" pour chaque nombre d'images choisi"
   ]
  },
  {
   "cell_type": "code",
   "execution_count": 438,
   "id": "a068c82b-9f3b-4e9f-8032-84fc7b05e465",
   "metadata": {},
   "outputs": [
    {
     "data": {
      "application/vnd.jupyter.widget-view+json": {
       "model_id": "",
       "version_major": 2,
       "version_minor": 0
      },
      "text/plain": [
       "FloatProgress(value=0.0, bar_style='info', description='Progress:', layout=Layout(height='25px', width='50%'),…"
      ]
     },
     "metadata": {},
     "output_type": "display_data"
    }
   ],
   "source": [
    "df_duration['nb_images'] = df_duration['nb_images'].fillna(nb_images).astype('int')"
   ]
  },
  {
   "cell_type": "markdown",
   "id": "c3b99477-057c-4aea-a29a-d671b509a7c0",
   "metadata": {},
   "source": [
    "#### Ajout du nom du cluster à df_duration"
   ]
  },
  {
   "cell_type": "markdown",
   "id": "a30220a9-c41a-4803-bd4d-5626a039e03a",
   "metadata": {},
   "source": [
    "Le nom du cluster contient l'information du nombre et du type des noeuds "
   ]
  },
  {
   "cell_type": "code",
   "execution_count": 439,
   "id": "10f47387-096c-4edb-a508-f11e9db960b0",
   "metadata": {},
   "outputs": [
    {
     "data": {
      "application/vnd.jupyter.widget-view+json": {
       "model_id": "",
       "version_major": 2,
       "version_minor": 0
      },
      "text/plain": [
       "FloatProgress(value=0.0, bar_style='info', description='Progress:', layout=Layout(height='25px', width='50%'),…"
      ]
     },
     "metadata": {},
     "output_type": "display_data"
    }
   ],
   "source": [
    "df_duration['cluster'] = cluster_name"
   ]
  },
  {
   "cell_type": "markdown",
   "id": "997e2589",
   "metadata": {},
   "source": [
    "#### Durée totale"
   ]
  },
  {
   "cell_type": "markdown",
   "id": "11be598a-c555-484b-a7bd-1419cbc17cdc",
   "metadata": {},
   "source": [
    "Somme des durées d'exécution des principales opérations seulement (le cas échéant, regroupées par nombre d'images)"
   ]
  },
  {
   "cell_type": "code",
   "execution_count": 440,
   "id": "e3d0f336",
   "metadata": {},
   "outputs": [
    {
     "data": {
      "application/vnd.jupyter.widget-view+json": {
       "model_id": "",
       "version_major": 2,
       "version_minor": 0
      },
      "text/plain": [
       "FloatProgress(value=0.0, bar_style='info', description='Progress:', layout=Layout(height='25px', width='50%'),…"
      ]
     },
     "metadata": {},
     "output_type": "display_data"
    },
    {
     "name": "stdout",
     "output_type": "stream",
     "text": [
      "   nb_images  nb_secs          duration\n",
      "0      10812      861           14m 21s"
     ]
    }
   ],
   "source": [
    "get_total_duration()"
   ]
  },
  {
   "cell_type": "markdown",
   "id": "72a86261",
   "metadata": {},
   "source": [
    "#### Durée des principales opérations\n",
    "Le cas échéant, triées par nombre d'images"
   ]
  },
  {
   "cell_type": "code",
   "execution_count": 441,
   "id": "595f3e25",
   "metadata": {},
   "outputs": [
    {
     "data": {
      "application/vnd.jupyter.widget-view+json": {
       "model_id": "",
       "version_major": 2,
       "version_minor": 0
      },
      "text/plain": [
       "FloatProgress(value=0.0, bar_style='info', description='Progress:', layout=Layout(height='25px', width='50%'),…"
      ]
     },
     "metadata": {},
     "output_type": "display_data"
    },
    {
     "name": "stdout",
     "output_type": "stream",
     "text": [
      "             job_group_id  nb_images          duration\n",
      "0            add_class_id      10812           00m 22s\n",
      "1     get_spark_df_sample      10812           00m 01s\n",
      "2  get_class_distribution      10812           00m 12s\n",
      "3        get_cnn_features      10812           00m 00s\n",
      "4             train_model      10812           07m 38s\n",
      "5       save_pca_features      10812           02m 33s\n",
      "6             get_metrics      10812           03m 35s"
     ]
    }
   ],
   "source": [
    "df_duration[['job_group_id', 'nb_images', 'duration']]"
   ]
  },
  {
   "cell_type": "markdown",
   "id": "e1bda876-1f0d-47b9-b52f-51bc8c67b3f1",
   "metadata": {},
   "source": [
    "#### Opérations les plus coûteuses\n",
    "Durée des principales opérations triées par coût décroissant (durée moyenne si nombre d'images variable)"
   ]
  },
  {
   "cell_type": "code",
   "execution_count": 442,
   "id": "189e4fb8-eccf-41b9-874e-120cc8699cbe",
   "metadata": {},
   "outputs": [
    {
     "data": {
      "application/vnd.jupyter.widget-view+json": {
       "model_id": "",
       "version_major": 2,
       "version_minor": 0
      },
      "text/plain": [
       "FloatProgress(value=0.0, bar_style='info', description='Progress:', layout=Layout(height='25px', width='50%'),…"
      ]
     },
     "metadata": {},
     "output_type": "display_data"
    },
    {
     "name": "stdout",
     "output_type": "stream",
     "text": [
      "             job_group_id  nb_secs\n",
      "6             train_model      458\n",
      "3             get_metrics      215\n",
      "5       save_pca_features      153\n",
      "0            add_class_id       22\n",
      "1  get_class_distribution       12\n",
      "4     get_spark_df_sample        1\n",
      "2        get_cnn_features        0"
     ]
    }
   ],
   "source": [
    "df_duration['nb_secs'] = df_duration['nb_secs'].astype('int')\n",
    "df_duration.groupby('job_group_id').agg({'nb_secs': 'mean'}).reset_index().sort_values('nb_secs', ascending=False)"
   ]
  },
  {
   "cell_type": "markdown",
   "id": "4069b180-e864-4cc3-a5e0-9f3a8bb1e6f1",
   "metadata": {},
   "source": [
    "#### Durée de l'opération principale\n",
    "L'opération principale est la celle qui contient l'extraction d'atributs CNN et la réduction PCA de dimensions. Il s'agit du job group \"train_model\" "
   ]
  },
  {
   "cell_type": "code",
   "execution_count": 443,
   "id": "94929b6c-1ad6-4cd3-9a8a-178883582aca",
   "metadata": {},
   "outputs": [
    {
     "data": {
      "application/vnd.jupyter.widget-view+json": {
       "model_id": "",
       "version_major": 2,
       "version_minor": 0
      },
      "text/plain": [
       "FloatProgress(value=0.0, bar_style='info', description='Progress:', layout=Layout(height='25px', width='50%'),…"
      ]
     },
     "metadata": {},
     "output_type": "display_data"
    },
    {
     "name": "stdout",
     "output_type": "stream",
     "text": [
      "           cluster job_group_id  nb_images  nb_secs          duration\n",
      "4  emr-1core-2task  train_model      10812      458           07m 38s"
     ]
    }
   ],
   "source": [
    "df_duration[df_duration['job_group_id'] == 'train_model'].sort_values('nb_images', ascending=False)"
   ]
  },
  {
   "cell_type": "markdown",
   "id": "e494d4a6-af30-4df1-98ba-fe40d6899641",
   "metadata": {},
   "source": [
    "#### Sauvegarde dans CSV"
   ]
  },
  {
   "cell_type": "code",
   "execution_count": 444,
   "id": "4a02780e-64cf-4e3c-b285-2f92f8c91444",
   "metadata": {},
   "outputs": [
    {
     "data": {
      "application/vnd.jupyter.widget-view+json": {
       "model_id": "",
       "version_major": 2,
       "version_minor": 0
      },
      "text/plain": [
       "FloatProgress(value=0.0, bar_style='info', description='Progress:', layout=Layout(height='25px', width='50%'),…"
      ]
     },
     "metadata": {},
     "output_type": "display_data"
    }
   ],
   "source": [
    "path_duration = path_s3_output + cluster_name + '_duration_' + timestamp + '.csv'\n",
    "df_duration.to_csv(path_duration, index=False) "
   ]
  },
  {
   "cell_type": "markdown",
   "id": "0a7fde80-8041-4133-a2e1-8daa29257fa9",
   "metadata": {},
   "source": [
    "### Extrapolation pour montée en échelle\n",
    "Estimation de la durée d'exécution de l'opération principale pour un nombre d'images plus important"
   ]
  },
  {
   "cell_type": "code",
   "execution_count": 445,
   "id": "bea78656-72ca-4e1a-9f57-010304685ed9",
   "metadata": {},
   "outputs": [
    {
     "data": {
      "application/vnd.jupyter.widget-view+json": {
       "model_id": "",
       "version_major": 2,
       "version_minor": 0
      },
      "text/plain": [
       "FloatProgress(value=0.0, bar_style='info', description='Progress:', layout=Layout(height='25px', width='50%'),…"
      ]
     },
     "metadata": {},
     "output_type": "display_data"
    }
   ],
   "source": [
    "def extrapolate_duration(df_in, label_x, label_y, li_x) :\n",
    "    np_coeff = np.polyfit(df_in[label_x], df_in[label_y], 1) # 1:linear, 2:quadratic\n",
    "    np_equation = np.poly1d(np_coeff) \n",
    "    li_x = list(df_in[label_x]) + li_x\n",
    "    li_y = np_equation(li_x)  # predict list of y \n",
    "    return pd.DataFrame({\n",
    "        label_x : li_x,\n",
    "        'estimated_secs' : [int(y)  for y in li_y],\n",
    "        'estimated_' + label_y : [get_HHMMSS(int(y)) for y in li_y]\n",
    "    }).sort_values(label_x)"
   ]
  },
  {
   "cell_type": "code",
   "execution_count": 446,
   "id": "3645ab89-b8b0-4554-9028-d1559de4155c",
   "metadata": {},
   "outputs": [
    {
     "data": {
      "application/vnd.jupyter.widget-view+json": {
       "model_id": "",
       "version_major": 2,
       "version_minor": 0
      },
      "text/plain": [
       "FloatProgress(value=0.0, bar_style='info', description='Progress:', layout=Layout(height='25px', width='50%'),…"
      ]
     },
     "metadata": {},
     "output_type": "display_data"
    },
    {
     "name": "stdout",
     "output_type": "stream",
     "text": [
      "<stdin>:3: RankWarning: Polyfit may be poorly conditioned"
     ]
    }
   ],
   "source": [
    "li_nb_images = [20000, 40000, 60000, 80000, 100000]\n",
    "df_duration_train = df_duration[df_duration['job_group_id'] == 'train_model']\n",
    "df_duration_extrapolated = extrapolate_duration(df_duration_train, 'nb_images', 'nb_secs', li_nb_images)"
   ]
  },
  {
   "cell_type": "markdown",
   "id": "c39dab60-b610-4f2b-8eb3-bbec1c64eb2f",
   "metadata": {},
   "source": [
    "#### Ajout du nom du cluster à df_duration"
   ]
  },
  {
   "cell_type": "markdown",
   "id": "eb9146dd-57d4-4d7a-ab8b-ca9eb5958e5f",
   "metadata": {},
   "source": [
    "Le nom du cluster contient l'information du nombre et du type des noeuds "
   ]
  },
  {
   "cell_type": "code",
   "execution_count": 447,
   "id": "b6c268f6-9701-4eee-a06e-1548f4f78b6d",
   "metadata": {},
   "outputs": [
    {
     "data": {
      "application/vnd.jupyter.widget-view+json": {
       "model_id": "",
       "version_major": 2,
       "version_minor": 0
      },
      "text/plain": [
       "FloatProgress(value=0.0, bar_style='info', description='Progress:', layout=Layout(height='25px', width='50%'),…"
      ]
     },
     "metadata": {},
     "output_type": "display_data"
    }
   ],
   "source": [
    "df_duration_extrapolated['cluster'] = cluster_name"
   ]
  },
  {
   "cell_type": "markdown",
   "id": "5f5ae52c-ac1f-4ff0-825c-59167e8beccd",
   "metadata": {},
   "source": [
    "#### Sauvegarde dans CSV"
   ]
  },
  {
   "cell_type": "code",
   "execution_count": 448,
   "id": "9ac76e3d-9ba0-4a7d-9304-97a99519006c",
   "metadata": {},
   "outputs": [
    {
     "data": {
      "application/vnd.jupyter.widget-view+json": {
       "model_id": "",
       "version_major": 2,
       "version_minor": 0
      },
      "text/plain": [
       "FloatProgress(value=0.0, bar_style='info', description='Progress:', layout=Layout(height='25px', width='50%'),…"
      ]
     },
     "metadata": {},
     "output_type": "display_data"
    }
   ],
   "source": [
    "path_duration_extrapolated = path_s3_output + cluster_name + '_duration_extrapolated_' + timestamp + '.csv'\n",
    "df_duration_extrapolated.to_csv(path_duration_extrapolated, index=False) "
   ]
  },
  {
   "cell_type": "markdown",
   "id": "d451a499-0ff0-4c1b-93bf-64abaa0e53f2",
   "metadata": {},
   "source": [
    "## Envoi de notification de fin\n",
    "- Une notification par e-mail signale la fin du traitement par le notebook\n",
    "- Cette notification se déclénche suite à la suppression d'un fichier sur S3"
   ]
  },
  {
   "cell_type": "code",
   "execution_count": 449,
   "id": "0cafc699-e436-482b-9d38-d660dc5501d4",
   "metadata": {
    "scrolled": true
   },
   "outputs": [
    {
     "data": {
      "application/vnd.jupyter.widget-view+json": {
       "model_id": "",
       "version_major": 2,
       "version_minor": 0
      },
      "text/plain": [
       "FloatProgress(value=0.0, bar_style='info', description='Progress:', layout=Layout(height='25px', width='50%'),…"
      ]
     },
     "metadata": {},
     "output_type": "display_data"
    },
    {
     "name": "stdout",
     "output_type": "stream",
     "text": [
      "Command = touch COMPLETED.flag\n",
      "OK, success\n",
      " \n",
      "Command = aws s3 cp COMPLETED.flag s3://jv-s3/\n",
      "OK, success\n",
      " upload: ./COMPLETED.flag to s3://jv-s3/COMPLETED.flag\n",
      "\n",
      "Command = aws s3 rm s3://jv-s3/COMPLETED.flag\n",
      "OK, success\n",
      " delete: s3://jv-s3/COMPLETED.flag\n",
      "\n",
      "'OK'"
     ]
    }
   ],
   "source": [
    "file_flag = 'COMPLETED.flag'\n",
    "run_cmd(f'touch {file_flag}')                # local file created\n",
    "run_cmd(f'aws s3 cp {file_flag} {path_s3}')  # file copied to S3\n",
    "run_cmd(f'aws s3 rm {path_s3}{file_flag}')  # file removed from S3"
   ]
  },
  {
   "cell_type": "markdown",
   "id": "095f106b-b77a-4e3c-9985-20e1107e0702",
   "metadata": {
    "tags": []
   },
   "source": [
    "<div style='background-color: orange; text-align: center'>."
   ]
  },
  {
   "cell_type": "markdown",
   "id": "51febc2f-5a94-4ed1-8a94-cd739a5ad8be",
   "metadata": {},
   "source": [
    "# Annexe : Détail des étapes du _pipeline_\n",
    "Voici les étapes avec vérification qui ont servi à préparer le _pipeline_"
   ]
  },
  {
   "cell_type": "markdown",
   "id": "02ffcb42-ef9e-402b-aeb2-975353484b5f",
   "metadata": {},
   "source": [
    "## Normalisation des attributs\n",
    "- Par StandardScaler() : moyenne nulle et déviation standard=1\n",
    "- entraînement sur jeu d’entraînement\n",
    "- transformation sur les 2 jeux "
   ]
  },
  {
   "cell_type": "raw",
   "id": "49c297bb-957c-4adf-a60f-1f3a0a40b962",
   "metadata": {
    "scrolled": true
   },
   "source": [
    "start_time = get_time()\n",
    "scaler = StandardScaler(inputCol='features_vector', outputCol='features_scaled_vector')\n",
    "scaler = scaler.fit(sdf_train)\n",
    "sdf_train = scaler.transform(sdf_train)\n",
    "sdf_test  = scaler.transform(sdf_test)\n",
    "get_duration('Standardized features', 'scaler.fit()', start_time) "
   ]
  },
  {
   "cell_type": "raw",
   "id": "deedf90e-fe2f-442e-9a23-19e24dc19ae5",
   "metadata": {},
   "source": [
    "sdf_train = sdf_train.drop('features_vector')\n",
    "sdf_train.printSchema()"
   ]
  },
  {
   "cell_type": "raw",
   "id": "54f7ca12-b7d2-4969-897f-eeec5674f8f0",
   "metadata": {},
   "source": [
    "sdf_test = sdf_test.drop('features_vector')\n",
    "sdf_test.printSchema()"
   ]
  },
  {
   "cell_type": "markdown",
   "id": "53ec4d5b-adb9-45da-b6b7-5d9a1d4e06c4",
   "metadata": {},
   "source": [
    "## Réduction du nombre d’attributs\n",
    "    - par PCA de pyspark.ml pour un traitement distribué\n",
    "    - les 10 premières valeurs propres deviennent les  nouveaux attributs\n",
    "    - application du modèle PCA aux vecteurs\n",
    "    - le nouveau JDD est plus réduit et plus représentatif que l’original\n",
    "        - on passe de 1280 attributs à 10"
   ]
  },
  {
   "cell_type": "markdown",
   "id": "0e77b4dd-43dc-4e76-9237-8cf1d903b5da",
   "metadata": {},
   "source": [
    "#### Sélection de premières valeurs propres\n",
    "Les 10 premières valeurs propres deviennent les nouveaux attributs"
   ]
  },
  {
   "cell_type": "raw",
   "id": "463e002e-0510-49b5-a65e-35ead87f4276",
   "metadata": {},
   "source": [
    "nb_features_pca = 10\n",
    "pca = PCA(k=nb_features_pca, inputCol='features_scaled_vector', outputCol='features_pca')"
   ]
  },
  {
   "cell_type": "markdown",
   "id": "acdf1269-dbc8-41d6-a696-9c32b85280c1",
   "metadata": {},
   "source": [
    "### Application de PCA aux vecteurs\n",
    "Traitement des attributs générés par le modèle pré-entraîné"
   ]
  },
  {
   "cell_type": "raw",
   "id": "cc4880bd-2de1-4183-8d32-e34fe7195853",
   "metadata": {
    "scrolled": true
   },
   "source": [
    "start_time = get_time()\n",
    "model_pca = pca.fit(sdf_train)\n",
    "get_duration('PCA', 'fit()', start_time)"
   ]
  },
  {
   "cell_type": "raw",
   "id": "7aa18a45-e94d-4d9f-b169-07fb986a15ca",
   "metadata": {
    "scrolled": true
   },
   "source": [
    "sdf_train_array = model_pca.transform(sdf_train).drop('features_scaled_vector')\n",
    "sdf_train_array.printSchema()"
   ]
  },
  {
   "cell_type": "raw",
   "id": "3efd35a5-0047-4a37-86e6-9440c271df86",
   "metadata": {
    "scrolled": true
   },
   "source": [
    "sdf_test_array = model_pca.transform(sdf_test).drop('features_scaled_vector')\n",
    "sdf_test_array.printSchema()"
   ]
  },
  {
   "cell_type": "markdown",
   "id": "68550982-2ed3-41ca-b9f2-56b1f6cbbea5",
   "metadata": {},
   "source": [
    "### Valeurs propres"
   ]
  },
  {
   "cell_type": "raw",
   "id": "e85a9802-fb25-4181-8788-3e44be3bdf1d",
   "metadata": {},
   "source": [
    "explained_variance = model_pca.explainedVariance.toArray()\n",
    "np.round(explained_variance, 2)"
   ]
  },
  {
   "cell_type": "markdown",
   "id": "e10d4e35-50db-4c7b-8d48-8cfe075a454c",
   "metadata": {},
   "source": [
    "### Valeurs propres cumulées"
   ]
  },
  {
   "cell_type": "raw",
   "id": "ccee3918-81b6-4389-8ded-5a3b04b29545",
   "metadata": {},
   "source": [
    "cumulative_variance = np.cumsum(explained_variance) / np.sum(explained_variance)\n",
    "np.round(cumulative_variance, 2)"
   ]
  },
  {
   "cell_type": "markdown",
   "id": "65b9aec5-dda7-4fa1-b667-3c23605da03c",
   "metadata": {},
   "source": [
    "## Classification par régression logistique"
   ]
  },
  {
   "cell_type": "raw",
   "id": "3fde3169-5310-43b6-80ac-c3c3cb294cdf",
   "metadata": {},
   "source": [
    "lr = LogisticRegression(featuresCol='features_scaled_vector', labelCol='class_id')"
   ]
  },
  {
   "cell_type": "markdown",
   "id": "c421702c-661c-476a-9933-0b67b5d710e6",
   "metadata": {},
   "source": [
    "## Entraînement et test"
   ]
  },
  {
   "cell_type": "markdown",
   "id": "f7335886-033b-491d-b321-554fac00b01e",
   "metadata": {},
   "source": [
    "### Entraînement sur jeu d'entraînement"
   ]
  },
  {
   "cell_type": "raw",
   "id": "54815139-9689-476b-9c53-d2f0c05b7f10",
   "metadata": {
    "scrolled": true
   },
   "source": [
    "start_time = get_time()\n",
    "model_lr = model_pipeline.fit(sdf_train)\n",
    "get_duration('model LR', 'trained fit()', start_time)"
   ]
  },
  {
   "cell_type": "markdown",
   "id": "a4564c51-aadc-4c57-aa64-4e5ccfc0ab23",
   "metadata": {},
   "source": [
    "### Prédiction sur jeu de test"
   ]
  },
  {
   "cell_type": "raw",
   "id": "b824baac-1083-4d6e-8767-2b4c82b27f27",
   "metadata": {},
   "source": [
    "start_time = get_time()\n",
    "#predictions = model_lr.transform(sdf_test)\n",
    "get_duration('model LR', 'predicted transform()', start_time)"
   ]
  },
  {
   "cell_type": "markdown",
   "id": "5b6099a5-4a35-4010-ae31-956c0f70cd80",
   "metadata": {
    "tags": []
   },
   "source": [
    "<div style='background-color: red; text-align: center'>."
   ]
  },
  {
   "cell_type": "markdown",
   "id": "eebe60ae-ac1c-467e-aacb-b2a09292a465",
   "metadata": {},
   "source": [
    "# Brouillons"
   ]
  },
  {
   "cell_type": "raw",
   "id": "70be1528-a1b8-4c27-8ed4-32144ad3682b",
   "metadata": {},
   "source": [
    "print(path_s3_output)"
   ]
  },
  {
   "cell_type": "raw",
   "id": "6ff790c7-95ea-408e-a35f-b7fd00605cff",
   "metadata": {
    "scrolled": true
   },
   "source": [
    "sdf_features_array.write.mode('overwrite').parquet(path_s3_output)"
   ]
  },
  {
   "cell_type": "markdown",
   "id": "1fe01b72",
   "metadata": {},
   "source": [
    "## Chargement des données enregistrées et validation du résultat"
   ]
  },
  {
   "cell_type": "raw",
   "id": "3305c46d-2c3e-4373-a130-eae8e79ba62a",
   "metadata": {},
   "source": [
    "df = pd.read_parquet(path_s3_output, engine='pyarrow')"
   ]
  },
  {
   "cell_type": "raw",
   "id": "8603bb52-c136-41a0-8e6a-36d70eb0c487",
   "metadata": {},
   "source": [
    "df.head()"
   ]
  },
  {
   "cell_type": "raw",
   "id": "428ac611-02d0-4690-9744-4fab8a8911ca",
   "metadata": {},
   "source": [
    "df.loc[0,'features'].shape"
   ]
  },
  {
   "cell_type": "raw",
   "id": "93aef49e-0b3b-4f32-af44-68dc73513200",
   "metadata": {},
   "source": [
    "df.loc[0,'features_pca']['values']"
   ]
  },
  {
   "cell_type": "raw",
   "id": "486deea8-fc2e-491b-af72-e4a01430008f",
   "metadata": {},
   "source": [
    "df.shape"
   ]
  }
 ],
 "metadata": {
  "kernelspec": {
   "display_name": "PySpark",
   "language": "python",
   "name": "pysparkkernel"
  },
  "language_info": {
   "codemirror_mode": {
    "name": "python",
    "version": 3
   },
   "file_extension": ".py",
   "mimetype": "text/x-python",
   "name": "pyspark",
   "pygments_lexer": "python3"
  },
  "toc": {
   "base_numbering": 1,
   "nav_menu": {},
   "number_sections": true,
   "sideBar": true,
   "skip_h1_title": false,
   "title_cell": "Table of Contents",
   "title_sidebar": "Contents",
   "toc_cell": false,
   "toc_position": {
    "height": "calc(100% - 180px)",
    "left": "10px",
    "top": "150px",
    "width": "432.4px"
   },
   "toc_section_display": true,
   "toc_window_display": true
  },
  "toc-autonumbering": true
 },
 "nbformat": 4,
 "nbformat_minor": 5
}
